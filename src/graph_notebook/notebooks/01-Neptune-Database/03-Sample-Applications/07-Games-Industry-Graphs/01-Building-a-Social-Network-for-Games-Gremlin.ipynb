{
 "cells": [
  {
   "cell_type": "markdown",
   "id": "42d27e6f",
   "metadata": {},
   "source": [
    "Copyright Amazon.com, Inc. or its affiliates. All Rights Reserved. SPDX-License-Identifier: Apache-2.0"
   ]
  },
  {
   "cell_type": "markdown",
   "id": "3edf125e",
   "metadata": {},
   "source": [
    "# Building a Social Network for Games on Amazon Neptune\n",
    "This notebook shows how to use Amazon Neptune and Gremlin to build a graph of users and game titles for a games platform to make friends and games recommendations based on a user's network and games preferences.\n",
    "## Background\n",
    "Friends lists and similar ability to connect users remains a major ask I hear in games accounts. People who just want a simple plug in for AWS tooling. Lorem ipsum..."
   ]
  },
  {
   "cell_type": "markdown",
   "id": "a652da3d",
   "metadata": {},
   "source": [
    "## Getting Started\n",
    "In this section, we'll load the graph and set some visualization options. Then, we'll use Gremlin queries to inspect the data model used throughout the solution."
   ]
  },
  {
   "cell_type": "markdown",
   "id": "da5c40b9",
   "metadata": {},
   "source": [
    "### Load data\n",
    "The cell below loads the example social network into your Neptune cluster. When you run the cell, it will automatically install the `games-social-graph` dataset into your graph. This can take a few minutes."
   ]
  },
  {
   "cell_type": "code",
   "execution_count": 1,
   "id": "cb527316",
   "metadata": {},
   "outputs": [
    {
     "data": {
      "application/vnd.jupyter.widget-view+json": {
       "model_id": "ce944e38088d4c6c84bc5ae3023df8d3",
       "version_major": 2,
       "version_minor": 0
      },
      "text/plain": [
       "Dropdown(description='Source type:', options=('', 'samples', 'custom'), style=DescriptionStyle(description_wid…"
      ]
     },
     "metadata": {},
     "output_type": "display_data"
    },
    {
     "data": {
      "application/vnd.jupyter.widget-view+json": {
       "model_id": "9835686a2c744e13b2d3b0cbdc893b62",
       "version_major": 2,
       "version_minor": 0
      },
      "text/plain": [
       "Dropdown(description='Data model:', layout=Layout(display='none', visibility='hidden'), options=('', 'property…"
      ]
     },
     "metadata": {},
     "output_type": "display_data"
    },
    {
     "data": {
      "application/vnd.jupyter.widget-view+json": {
       "model_id": "4d7ef80464a24cbda580cf3131366cbe",
       "version_major": 2,
       "version_minor": 0
      },
      "text/plain": [
       "Dropdown(description='Language:', layout=Layout(display='none', visibility='hidden'), options=('', 'opencypher…"
      ]
     },
     "metadata": {},
     "output_type": "display_data"
    },
    {
     "data": {
      "application/vnd.jupyter.widget-view+json": {
       "model_id": "dcd50a55ff2c4826b48e7ae12122aac9",
       "version_major": 2,
       "version_minor": 0
      },
      "text/plain": [
       "Dropdown(description='Language:', layout=Layout(display='none', visibility='hidden'), options=('', 'opencypher…"
      ]
     },
     "metadata": {},
     "output_type": "display_data"
    },
    {
     "data": {
      "application/vnd.jupyter.widget-view+json": {
       "model_id": "a4441a2eb8d24495af8a466b46bce03f",
       "version_major": 2,
       "version_minor": 0
      },
      "text/plain": [
       "Dropdown(description='Data set:', layout=Layout(display='none', visibility='hidden'), options=(), style=Descri…"
      ]
     },
     "metadata": {},
     "output_type": "display_data"
    },
    {
     "data": {
      "application/vnd.jupyter.widget-view+json": {
       "model_id": "b887092b80b94c6ab52ae6fcf594cb33",
       "version_major": 2,
       "version_minor": 0
      },
      "text/plain": [
       "Dropdown(description='Full File Query:', index=1, layout=Layout(display='none', visibility='hidden'), options=…"
      ]
     },
     "metadata": {},
     "output_type": "display_data"
    },
    {
     "data": {
      "application/vnd.jupyter.widget-view+json": {
       "model_id": "ba006528124c411a9a08c94707afe9f8",
       "version_major": 2,
       "version_minor": 0
      },
      "text/plain": [
       "Dropdown(description='Location:', layout=Layout(display='none', visibility='hidden'), options=('Local', 'S3'),…"
      ]
     },
     "metadata": {},
     "output_type": "display_data"
    },
    {
     "data": {
      "application/vnd.jupyter.widget-view+json": {
       "model_id": "450d509149c44ccab5c8b4c72e70cf46",
       "version_major": 2,
       "version_minor": 0
      },
      "text/plain": [
       "FileChooser(path='/home/ec2-user/SageMaker', filename='', title='', show_hidden=False, select_desc='Select', c…"
      ]
     },
     "metadata": {},
     "output_type": "display_data"
    },
    {
     "data": {
      "application/vnd.jupyter.widget-view+json": {
       "model_id": "f6920fe28ea84eeb8486c9752c157cc6",
       "version_major": 2,
       "version_minor": 0
      },
      "text/plain": [
       "HBox(children=(Text(value='', description='Source:', placeholder='path/to/seedfiles/directory', style=Descript…"
      ]
     },
     "metadata": {},
     "output_type": "display_data"
    },
    {
     "data": {
      "application/vnd.jupyter.widget-view+json": {
       "model_id": "",
       "version_major": 2,
       "version_minor": 0
      },
      "text/plain": [
       "Button(description='Submit', layout=Layout(visibility='hidden'), style=ButtonStyle())"
      ]
     },
     "metadata": {},
     "output_type": "display_data"
    },
    {
     "data": {
      "application/vnd.jupyter.widget-view+json": {
       "model_id": "5974e74787184f8ebb38a61137c7880d",
       "version_major": 2,
       "version_minor": 0
      },
      "text/plain": [
       "Output()"
      ]
     },
     "metadata": {},
     "output_type": "display_data"
    },
    {
     "data": {
      "application/vnd.jupyter.widget-view+json": {
       "model_id": "61eafa13cbb847abba62caa4466d1065",
       "version_major": 2,
       "version_minor": 0
      },
      "text/plain": [
       "Output()"
      ]
     },
     "metadata": {},
     "output_type": "display_data"
    }
   ],
   "source": [
    "%seed\n",
    "# Source type: custom\n",
    "# Language: gremlin\n",
    "# Full File Query: False\n",
    "# Location: Local\n",
    "# Path: seed/\n",
    "# Add this to Github repo --model Property_Graph --language gremlin --dataset games-social-graph --run"
   ]
  },
  {
   "cell_type": "markdown",
   "id": "2f7f1c4f",
   "metadata": {},
   "source": [
    "### Set visualization options\n",
    "The cell below sets the property values to display on the graph visualization."
   ]
  },
  {
   "cell_type": "code",
   "execution_count": 2,
   "id": "d135be09",
   "metadata": {},
   "outputs": [],
   "source": [
    "my_node_labels = '{\"Game\":\"title\",\"User\":\"username\"}'\n",
    "my_edge_labels = '{\"rating\":\"stars\"}'"
   ]
  },
  {
   "cell_type": "markdown",
   "id": "9ef9004a",
   "metadata": {},
   "source": [
    "The cell below configures the visualization to use specific colors and icons for the different parts of the data model."
   ]
  },
  {
   "cell_type": "code",
   "execution_count": 3,
   "id": "f175a57d",
   "metadata": {},
   "outputs": [],
   "source": [
    "%%capture\n",
    "%%graph_notebook_vis_options\n",
    "\n",
    "{\n",
    "  \"groups\": {\n",
    "    \"Game\": {\n",
    "      \"shape\": \"icon\",\n",
    "      \"icon\": {\n",
    "        \"face\": \"FontAwesome\",\n",
    "        \"code\": \"\\uf11b\",\n",
    "        \"color\": \"#ff9900\",\n",
    "        \"scaling\": {\n",
    "          \"label\": \"true\"\n",
    "        }\n",
    "      }\n",
    "    },\n",
    "    \"User\": {\n",
    "      \"shape\": \"icon\",\n",
    "      \"icon\": {\n",
    "        \"face\": \"FontAwesome\",\n",
    "        \"code\": \"\\uf2bd\",\n",
    "        \"color\": \"#0749af\",\n",
    "        \"scaling\": {\n",
    "          \"label\": \"true\"\n",
    "        }\n",
    "      }\n",
    "    }\n",
    "  }\n",
    "}"
   ]
  },
  {
   "cell_type": "markdown",
   "id": "e1e6a10e",
   "metadata": {},
   "source": [
    "### Data model\n",
    "The dataset in our example is made up of 50 fictitious players and 50 fictitious game titles. A player is represented by a `User` vertex. Each `User` vertex has a property `username`. A game title is represented by the `Game` vertex. Each `Game` vertex has the properties `title`, `genre`, `ratingSum`, and `ratingCount`.\n",
    "\n",
    "A `User` can have a `friendOf` edge to another `User`, representing that the first user is friends with the second user. A `User` can have a `rating` edge to a `Game` with a property `stars`, which represents a 1-to-5 star rating scale that the user gave to the game, where 5 is the most favorable rating.\n",
    "\n",
    "**Disclaimer:** All game titles and usernames in this sample dataset were randomly generated and are fictional. Any resemblance to real-life entities, past or present, is purely coincidental."
   ]
  },
  {
   "cell_type": "markdown",
   "id": "b41deeb3",
   "metadata": {},
   "source": [
    "### Visualize the data model\n",
    "The cell below illustrates a graph with:\n",
    "* 2 `User` vertices\n",
    "* 2 `friendOf` edges connecting the 2 `User` vertices\n",
    "* 1 `Game` vertex \n",
    "* 1 `rating` edge from a `User` vertex with property `star`"
   ]
  },
  {
   "cell_type": "code",
   "execution_count": 4,
   "id": "983ca1e7",
   "metadata": {},
   "outputs": [
    {
     "data": {
      "application/vnd.jupyter.widget-view+json": {
       "model_id": "42d0bcabdae440f4a49ca286cce287d0",
       "version_major": 2,
       "version_minor": 0
      },
      "text/plain": [
       "Tab(children=(Output(layout=Layout(max_height='600px', max_width='940px', overflow='scroll')), Force(network=<…"
      ]
     },
     "metadata": {},
     "output_type": "display_data"
    }
   ],
   "source": [
    "%%gremlin -d $my_node_labels -de $my_edge_labels\n",
    "\n",
    "g.V('1050')\n",
    " .outE('friendOf')\n",
    " .inV().limit(1)\n",
    " .outE('friendOf')\n",
    " .inV().hasId('1050')\n",
    " .outE('rating').limit(1)\n",
    " .inV()\n",
    " .path().by(elementMap())"
   ]
  },
  {
   "cell_type": "markdown",
   "id": "21b28f19",
   "metadata": {},
   "source": [
    "## Exploring the social network\n",
    "Using the sample dataset, we can explore the relationships between players, friends, and game titles to make recommendations. For example, we can suggest new games for a player to try or new friends for a player to add.\n",
    "### Suggest new friends with mutual friends\n",
    "We can suggest new friends to a user by identifying people they are likely to know through their network. By traversing the graph, we look for second degree friends (friends of friends). We can rank the likelihood that a user might know a second degree friend by the number of mutual friends they share.\n",
    "\n",
    "The cell below illustrates the graph with a `User`, their friends, and their second degree friends."
   ]
  },
  {
   "cell_type": "code",
   "execution_count": 10,
   "id": "44883ec9",
   "metadata": {},
   "outputs": [
    {
     "data": {
      "application/vnd.jupyter.widget-view+json": {
       "model_id": "445a64ab9ca14d5aa1e714e7792e63fe",
       "version_major": 2,
       "version_minor": 0
      },
      "text/plain": [
       "Tab(children=(Output(layout=Layout(max_height='600px', max_width='940px', overflow='scroll')), Force(network=<…"
      ]
     },
     "metadata": {},
     "output_type": "display_data"
    }
   ],
   "source": [
    "%%gremlin -d $my_node_labels -de $my_edge_labels\n",
    "\n",
    "g.V('1034').as('user')\n",
    " .outE('friendOf')\n",
    " .inV().aggregate('friends') // get friends of user\n",
    " .outE('friendOf')\n",
    " .inV().where(P.neq('user')).where(P.without('friends')) // get friends of friends who are not user or friends of user\n",
    " .path().by(elementMap())"
   ]
  },
  {
   "cell_type": "markdown",
   "id": "0934e86b",
   "metadata": {},
   "source": [
    "The cell below lists the top 3 second degree friends that a user is likely to know ranked by the number of mutual friends they share."
   ]
  },
  {
   "cell_type": "code",
   "execution_count": 16,
   "id": "2c65a77d",
   "metadata": {},
   "outputs": [
    {
     "data": {
      "application/vnd.jupyter.widget-view+json": {
       "model_id": "c68824dc49f74fc1a642947590817429",
       "version_major": 2,
       "version_minor": 0
      },
      "text/plain": [
       "Tab(children=(Output(layout=Layout(max_height='600px', max_width='940px', overflow='scroll')), Output(layout=L…"
      ]
     },
     "metadata": {},
     "output_type": "display_data"
    }
   ],
   "source": [
    "%%gremlin\n",
    "\n",
    "g.V('1034').as('user')\n",
    " .outE('friendOf')\n",
    " .inV().aggregate('friends')\n",
    " .outE('friendOf')\n",
    " .inV().where(P.neq('user')).where(P.without('friends'))\n",
    " .groupCount().by('username')\n",
    " .order(local).by(values, desc)\n",
    " .unfold()\n",
    " .limit(3)"
   ]
  },
  {
   "cell_type": "markdown",
   "id": "900872ef",
   "metadata": {},
   "source": [
    "### Suggest new friends with similar preferences in games\n",
    "We can suggest new friends to a user by identifying people that enjoyed playing the same games. By traversing the graph, we look for games that the user gave a 5-star rating, and then find other users who also gave the same games 5-star ratings. We can rank how likely they are to become friends by the number of games they mutually gave 5-star ratings.\n",
    "\n",
    "The cell below illustrates the graph with a `User`, the games they gave 5-star ratings to, and other users who also gave those games 5-star ratings."
   ]
  },
  {
   "cell_type": "code",
   "execution_count": 19,
   "id": "fb667903",
   "metadata": {},
   "outputs": [
    {
     "data": {
      "application/vnd.jupyter.widget-view+json": {
       "model_id": "acbbc4f9c0ed48e38b765970d3e636eb",
       "version_major": 2,
       "version_minor": 0
      },
      "text/plain": [
       "Tab(children=(Output(layout=Layout(max_height='600px', max_width='940px', overflow='scroll')), Force(network=<…"
      ]
     },
     "metadata": {},
     "output_type": "display_data"
    }
   ],
   "source": [
    "%%gremlin -d $my_node_labels -de $my_edge_labels\n",
    "\n",
    "g.V('1011').as('user')\n",
    " .outE('rating').has('stars', 5)\n",
    " .inV() // games that user gave 5-star rating\n",
    " .inE('rating').has('stars', 5)\n",
    " .outV().where(neq('user')).not(inE('friendOf').outV().hasId('1011')) // other users that gave 5-star and is not user or friends of user\n",
    " .path().by(elementMap())"
   ]
  },
  {
   "cell_type": "markdown",
   "id": "6bec7948",
   "metadata": {},
   "source": [
    "The cell below lists the top 3 users that share similar preference in games ranked by the number of games they both gave 5-star ratings."
   ]
  },
  {
   "cell_type": "code",
   "execution_count": 18,
   "id": "fa953283",
   "metadata": {},
   "outputs": [
    {
     "data": {
      "application/vnd.jupyter.widget-view+json": {
       "model_id": "ae1f09192850469dbd5d2a2b19916c24",
       "version_major": 2,
       "version_minor": 0
      },
      "text/plain": [
       "Tab(children=(Output(layout=Layout(max_height='600px', max_width='940px', overflow='scroll')), Output(layout=L…"
      ]
     },
     "metadata": {},
     "output_type": "display_data"
    }
   ],
   "source": [
    "%%gremlin\n",
    "\n",
    "g.V('1011').as('user')\n",
    " .outE('rating').has('stars', 5)\n",
    " .inV()\n",
    " .inE('rating').has('stars', 5)\n",
    " .outV().where(neq('user')).not(inE('friendOf').outV().hasId('1011'))\n",
    " .groupCount().by('username')\n",
    " .order(local).by(values, desc)\n",
    " .unfold()\n",
    " .limit(3)"
   ]
  },
  {
   "cell_type": "markdown",
   "id": "965f88b1",
   "metadata": {},
   "source": [
    "### Suggest new games rated highly by friends\n",
    "We can suggest new games for a user to try by identifying games that the user's friends gave 5-star ratings. By traversing the graph, we look for a user's friends, and then find games that those friends gave 5-star ratings. We can rank the likelihood that the user might enjoy a game by the number of friends who gave 5-star ratings.\n",
    "\n",
    "The cell below illustrates the graph with a `User`, their friends, and other games that received 5-star ratings from these friends."
   ]
  },
  {
   "cell_type": "code",
   "execution_count": 20,
   "id": "0fb9926a",
   "metadata": {},
   "outputs": [
    {
     "data": {
      "application/vnd.jupyter.widget-view+json": {
       "model_id": "8bc48464d51a4ddf84ebcb16d5eeb3f8",
       "version_major": 2,
       "version_minor": 0
      },
      "text/plain": [
       "Tab(children=(Output(layout=Layout(max_height='600px', max_width='940px', overflow='scroll')), Force(network=<…"
      ]
     },
     "metadata": {},
     "output_type": "display_data"
    }
   ],
   "source": [
    "%%gremlin -d $my_node_labels -de $my_edge_labels\n",
    "\n",
    "g.V('1008').as('user')\n",
    " .outE('friendOf')\n",
    " .inV().as('friends') // friends of user\n",
    " .outE('rating').has('stars', 5)\n",
    " .inV().not(inE('rating').outV().hasId('1008')) // games that received 5-star ratings from friends but not user\n",
    " .path()\n",
    " .by(elementMap())"
   ]
  },
  {
   "cell_type": "markdown",
   "id": "318e59e2",
   "metadata": {},
   "source": [
    "The cell below lists the top 3 games that the user is likely to enjoy ranked by the number of friends that gave 5-star ratings."
   ]
  },
  {
   "cell_type": "code",
   "execution_count": 21,
   "id": "1734f8b9",
   "metadata": {},
   "outputs": [
    {
     "data": {
      "application/vnd.jupyter.widget-view+json": {
       "model_id": "dbb7a2920ef0410e87b754d4919a8f62",
       "version_major": 2,
       "version_minor": 0
      },
      "text/plain": [
       "Tab(children=(Output(layout=Layout(max_height='600px', max_width='940px', overflow='scroll')), Output(layout=L…"
      ]
     },
     "metadata": {},
     "output_type": "display_data"
    }
   ],
   "source": [
    "%%gremlin\n",
    "\n",
    "g.V('1008').as('user')\n",
    " .outE('friendOf')\n",
    " .inV().as('friends')\n",
    " .outE('rating').has('stars', 5)\n",
    " .inV().not(inE('rating').outV().hasId('1008'))\n",
    " .groupCount().by('title')\n",
    " .order(local).by(values, desc)\n",
    " .unfold()\n",
    " .limit(3)"
   ]
  },
  {
   "cell_type": "markdown",
   "id": "5769175a",
   "metadata": {},
   "source": [
    "### Suggest new games rated highly by similar players\n",
    "We can suggest new games for a user to try by identifying games that players with similar interests gave 5-star ratings. By traversing the graph, we look for a games that a user gave 5-star ratings, then find users that gave 5-star ratings to those games, and then look for other games that received 5-star ratings from those players. We can rank the likelihood that the user might enjoy a game by the number of similar players who gave 5-star ratings.\n",
    "\n",
    "The cell below illustrates the graph with a `User`, their favorite games, other players who gave 5-star ratings to those games, and other games that received 5-star ratings from these players."
   ]
  },
  {
   "cell_type": "code",
   "execution_count": 22,
   "id": "15da4b85",
   "metadata": {},
   "outputs": [
    {
     "data": {
      "application/vnd.jupyter.widget-view+json": {
       "model_id": "0f50143452ac4699b53a9609a7a42a8d",
       "version_major": 2,
       "version_minor": 0
      },
      "text/plain": [
       "Tab(children=(Output(layout=Layout(max_height='600px', max_width='940px', overflow='scroll')), Force(network=<…"
      ]
     },
     "metadata": {},
     "output_type": "display_data"
    }
   ],
   "source": [
    "%%gremlin -d $my_node_labels -de $my_edge_labels\n",
    "\n",
    "g.V('1026').as('user')\n",
    " .outE('rating').has('stars', 5)\n",
    " .inV() // games that user gave 5-star rating\n",
    " .inE('rating').has('stars', 5)\n",
    " .outV().where(neq('user')) // other users who gave the same games 5-star ratings\n",
    " .outE('rating').has('stars', 5)\n",
    " .inV().not(inE('rating').outV().hasId('1026')) // games that got 5-star ratings from other users but has not been rated by user\n",
    " .path()\n",
    " .by(elementMap())"
   ]
  },
  {
   "cell_type": "markdown",
   "id": "ad1e6507",
   "metadata": {},
   "source": [
    "The cell below lists the top 10 games that the user is likely to enjoy ranked by the number of similar players that gave 5-star ratings."
   ]
  },
  {
   "cell_type": "code",
   "execution_count": 23,
   "id": "31a466c4",
   "metadata": {},
   "outputs": [
    {
     "data": {
      "application/vnd.jupyter.widget-view+json": {
       "model_id": "36cef4e275bd4db8b7739a7eaa392fec",
       "version_major": 2,
       "version_minor": 0
      },
      "text/plain": [
       "Tab(children=(Output(layout=Layout(max_height='600px', max_width='940px', overflow='scroll')), Output(layout=L…"
      ]
     },
     "metadata": {},
     "output_type": "display_data"
    }
   ],
   "source": [
    "%%gremlin\n",
    "\n",
    "g.V('1026').as('user')\n",
    " .outE('rating').has('stars', 5)\n",
    " .inV()\n",
    " .inE('rating').has('stars', 5)\n",
    " .outV().where(neq('user'))\n",
    " .outE('rating').has('stars', 5)\n",
    " .inV().not(inE('rating').outV().hasId('1026'))\n",
    " .groupCount().by('title')\n",
    " .order(local).by(values, desc)\n",
    " .unfold()\n",
    " .limit(10)"
   ]
  },
  {
   "cell_type": "markdown",
   "id": "abf2eb8d",
   "metadata": {},
   "source": [
    "### Show friends who liked a game\n",
    "When a user is considering a new game to play, we can show them a list of friends who gave the game a 5-star rating.\n",
    "\n",
    "The cell below illustrates a graph with a `Game` that does not have a `rating` edge from a `User` and the friends of that user who have given a 5-star rating to the game."
   ]
  },
  {
   "cell_type": "code",
   "execution_count": 24,
   "id": "d26ef851",
   "metadata": {},
   "outputs": [
    {
     "data": {
      "application/vnd.jupyter.widget-view+json": {
       "model_id": "9787f769298a46bba8167277baadb12c",
       "version_major": 2,
       "version_minor": 0
      },
      "text/plain": [
       "Tab(children=(Output(layout=Layout(max_height='600px', max_width='940px', overflow='scroll')), Force(network=<…"
      ]
     },
     "metadata": {},
     "output_type": "display_data"
    }
   ],
   "source": [
    "%%gremlin -d $my_node_labels -de $my_edge_labels\n",
    "\n",
    "g.V().hasLabel('Game').has('title','Blasterdroid')\n",
    " .inE('rating').has('stars', 5)\n",
    " .outV()\n",
    " .inE('friendOf')\n",
    " .outV().hasId('1002')\n",
    " .path()\n",
    " .by(elementMap())"
   ]
  },
  {
   "cell_type": "markdown",
   "id": "334a49d3",
   "metadata": {},
   "source": [
    "The cell below lists the friends that gave a 5-star rating to a new game that a user is considering to play."
   ]
  },
  {
   "cell_type": "code",
   "execution_count": 26,
   "id": "3bbd411d",
   "metadata": {},
   "outputs": [
    {
     "data": {
      "application/vnd.jupyter.widget-view+json": {
       "model_id": "c84eee2208a54e4ba54de99e2a71ffdd",
       "version_major": 2,
       "version_minor": 0
      },
      "text/plain": [
       "Tab(children=(Output(layout=Layout(max_height='600px', max_width='940px', overflow='scroll')), Output(layout=L…"
      ]
     },
     "metadata": {},
     "output_type": "display_data"
    }
   ],
   "source": [
    "%%gremlin\n",
    "\n",
    "g.V().hasLabel('Game').has('title','Blasterdroid')\n",
    " .inE('rating').has('stars', 5)\n",
    " .outV().filter(inE('friendOf').outV().hasId('1002'))\n",
    " .values('username')"
   ]
  },
  {
   "cell_type": "markdown",
   "id": "86487299",
   "metadata": {},
   "source": [
    "## Conclusion\n",
    "This notebook demonstrated how to use Amazon Neptune to build a social network for a games platform. We used a sample dataset with users and games and explored the friends relationship between users and the ratings connecting users and games. We traversed the graph to suggest new friends and games to users based on their existing friends and the games they rated."
   ]
  },
  {
   "cell_type": "markdown",
   "id": "bbdf924f",
   "metadata": {},
   "source": [
    "### (Optional) Cleaning up\n",
    "The cell below drops the example dataset from your graph."
   ]
  },
  {
   "cell_type": "code",
   "execution_count": 103,
   "id": "e6641bf7",
   "metadata": {},
   "outputs": [
    {
     "data": {
      "application/vnd.jupyter.widget-view+json": {
       "model_id": "f8c13c2121e94470a16c7472b6118b92",
       "version_major": 2,
       "version_minor": 0
      },
      "text/plain": [
       "Tab(children=(Output(layout=Layout(max_height='600px', max_width='940px', overflow='scroll')), Output(layout=L…"
      ]
     },
     "metadata": {},
     "output_type": "display_data"
    }
   ],
   "source": [
    "%%gremlin\n",
    "\n",
    "g.E().hasLabel('rating').drop().iterate()\n",
    "g.E().hasLabel('friendOf').drop().iterate()\n",
    "g.V().hasLabel('Game').drop().iterate()\n",
    "g.V().hasLabel('User').drop().iterate()"
   ]
  },
  {
   "cell_type": "markdown",
   "id": "df28b291",
   "metadata": {},
   "source": [
    "## Additional Resources\n",
    "The examples in this notebook showed how to develop a social network data model for a games platform. To build a social network solution using Amazon Neptune, we recommend the following resources:\n",
    "* [Getting Started with Amazon Neptune](https://docs.aws.amazon.com/neptune/latest/userguide/graph-get-started.html)\n",
    "* [Amazon Web Services Reference Architectures for Using Graph Databases](https://github.com/aws-samples/aws-dbs-refarch-graph/)\n",
    "* [Amazon Neptune Developer Resources](https://aws.amazon.com/neptune/developer-resources/)"
   ]
  }
 ],
 "metadata": {
  "kernelspec": {
   "display_name": "Python 3",
   "language": "python",
   "name": "python3"
  },
  "language_info": {
   "codemirror_mode": {
    "name": "ipython",
    "version": 3
   },
   "file_extension": ".py",
   "mimetype": "text/x-python",
   "name": "python",
   "nbconvert_exporter": "python",
   "pygments_lexer": "ipython3",
   "version": "3.10.8"
  }
 },
 "nbformat": 4,
 "nbformat_minor": 5
}
