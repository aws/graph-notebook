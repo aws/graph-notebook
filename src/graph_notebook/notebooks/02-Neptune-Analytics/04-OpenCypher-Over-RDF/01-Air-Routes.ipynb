{
 "cells": [
  {
   "cell_type": "markdown",
   "id": "c368bb9d",
   "metadata": {},
   "source": [
    "Copyright Amazon.com, Inc. or its affiliates. All Rights Reserved.\n",
    "SPDX-License-Identifier: Apache-2.0\n",
    "\n",
    "# Exploring RDF with openCypher - Air Routes\n",
    "\n",
    "[Resource Description Framework (RDF)](https://en.wikipedia.org/wiki/Resource_Description_Framework) is a framework for representing information about resources in a graph form. Unlike traditional databases that store data in tables, RDF structures data as statements of fact called ‘triples,’ consisting of a subject, predicate, and object. This simple yet powerful model allows for the creation of intricate networks of data.\n",
    "\n",
    "There are numerous publicly available RDF datasets covering a wide range of fields, including geography, life sciences, cultural heritage, and government data.\n",
    "\n",
    "These datasets, along with the considerable amount of RDF embedded within web pages, are collectively known as the [Semantic Web](https://en.wikipedia.org/wiki/Semantic_Web) of [Linked Data](https://en.wikipedia.org/wiki/Linked_data).\n",
    "\n",
    "[SPARQL](https://en.wikipedia.org/wiki/SPARQL) is the standard query language for RDF. While powerful, it lacks some useful features, such as path finding.\n",
    "\n",
    "[openCypher](https://opencypher.org/) is a popular graph query language that enables intuitive and expressive querying, including path finding and pattern matching. \n",
    "\n",
    "[Neptune Analytics](https://docs.aws.amazon.com/neptune-analytics/latest/userguide/what-is-neptune-analytics.html) can run openCypher queries and graph algorithms over RDF data.\n",
    "\n",
    "In this notebook, we explore an RDF graph model called Air Routes, which describes airports, airlines, and flight paths around the world. The data originates from the [OpenFlights Airports Database](https://openflights.org/data.php).\n",
    "\n",
    "### The Air Routes Ontology (Schema)\n",
    "\n",
    "The Air Routes ontology and data used in this notebook are available in a single NTRIPLES file on S3: `s3://aws-neptune-customer-samples-[AWS_REGION_HERE]/airroutes-rdf/airroutes.nt`\n",
    "\n",
    "In this notebook, we work with a subset of the ontology, shown here:"
   ]
  },
  {
   "attachments": {
    "Airroutes%20-%20Copy%20of%20Page%202%20%282%29.png": {
     "image/png": "[encoded data removed]"
    }
   },
   "cell_type": "markdown",
   "id": "0fff7869",
   "metadata": {},
   "source": [
    "![Airroutes%20-%20Copy%20of%20Page%202%20%282%29.png](attachment:Airroutes%20-%20Copy%20of%20Page%202%20%282%29.png)"
   ]
  },
  {
   "cell_type": "markdown",
   "id": "66712734",
   "metadata": {},
   "source": [
    "## Creating the Graph\n",
    "\n",
    "Run the following two cells to load the Air Routes RDF graph, using [Neptune batch load](https://docs.aws.amazon.com/neptune-analytics/latest/userguide/batch-load.html).  "
   ]
  },
  {
   "cell_type": "code",
   "execution_count": null,
   "id": "f9b16519669e1e39",
   "metadata": {
    "collapsed": false,
    "jupyter": {
     "outputs_hidden": false
    },
    "tags": []
   },
   "outputs": [],
   "source": [
    "import graph_notebook as gn\n",
    "\n",
    "config = gn.configuration.get_config.get_config()\n",
    "region = config.aws_region"
   ]
  },
  {
   "cell_type": "code",
   "execution_count": null,
   "id": "5d200238-f85e-4caf-907d-c438b9a4647c",
   "metadata": {
    "tags": []
   },
   "outputs": [],
   "source": [
    "%load -s s3://aws-neptune-customer-samples-{region}/airroutes-rdf/airroutes.nt -r {region} -f ntriples --run"
   ]
  },
  {
   "cell_type": "markdown",
   "id": "ae564ed4",
   "metadata": {},
   "source": [
    "## Retrieving Instances Count by Class / Node Label \n",
    "\n",
    "RDF classes become node labels in openCypher. Here, we execute a query to show how many instances of each RDF class / node label exist in the graph.\n",
    "\n",
    "#### SPARQL equivalent\n",
    "\n",
    "```\n",
    "select ?type (count(?s) as ?count) where {\n",
    "    ?s a ?type .\n",
    "} \n",
    "group by ?type\n",
    "\n",
    "```"
   ]
  },
  {
   "cell_type": "code",
   "execution_count": null,
   "id": "5a8776f5",
   "metadata": {
    "tags": []
   },
   "outputs": [],
   "source": [
    "%%oc\n",
    "\n",
    "MATCH (n)\n",
    "WITH labels(n) AS lbls\n",
    "UNWIND lbls AS lbl\n",
    "RETURN lbl AS Label, COUNT(*) AS Count\n",
    "ORDER BY Count DESC;"
   ]
  },
  {
   "cell_type": "markdown",
   "id": "a6066612",
   "metadata": {},
   "source": [
    "### Listing all RDF Object Properties / LPG Edge Labels\n",
    "\n",
    "RDF object properties are used to relate two resources (i.e., instances of classes) together. For example, `:hasDirectRouteTo` : \n",
    "\n",
    "```:JFK :hasDirectRouteTo :LondonHeathrow```\n",
    "\n",
    "RDF object properties become edge labels in openCypher.\n",
    "\n",
    "Execute the next cell to see a list of all the RDF object properties / edge labels in the graph.\n",
    "\n",
    "#### SPARQL equivalent:\n",
    "\n",
    "```\n",
    "SELECT DISTINCT ?p WHERE {\n",
    "    ?s ?p ?o .\n",
    "    FILTER (isIRI(?o))\n",
    "} GROUP BY ?p\n",
    "```"
   ]
  },
  {
   "cell_type": "code",
   "execution_count": null,
   "id": "138e34e2",
   "metadata": {},
   "outputs": [],
   "source": [
    "%%oc\n",
    "MATCH ()-[r]-()\n",
    "RETURN DISTINCT type(r) AS relType"
   ]
  },
  {
   "cell_type": "markdown",
   "id": "ae4db7b7",
   "metadata": {},
   "source": [
    "### Listing all RDF literal properties / LPG node properties\n",
    "\n",
    "RDF literal properties link a resource to a literal value, such as a string, number, or date.\n",
    "For example, `:hasName` : \n",
    "\n",
    "```:JFK :hasName \"John F. Kennedy International Airport\"```\n",
    "\n",
    "RDF literal properties become node properties in openCypher.\n",
    "\n",
    "Execute the next cell to see a list of all the RDF literal properties / LPG node properties in the graph.\n",
    "\n",
    "#### SPARQL equivalent:\n",
    "\n",
    "```\n",
    "SELECT DISTINCT ?p WHERE {\n",
    "    ?s ?p ?o .\n",
    "    FILTER (isLITERAL(?o))\n",
    "} GROUP BY ?p\n",
    "```"
   ]
  },
  {
   "cell_type": "code",
   "execution_count": null,
   "id": "7d6c5416",
   "metadata": {},
   "outputs": [],
   "source": [
    "%%oc\n",
    "\n",
    "MATCH (n)\n",
    "WITH DISTINCT keys(n) AS nodeKeys\n",
    "UNWIND nodeKeys AS key\n",
    "RETURN DISTINCT key;"
   ]
  },
  {
   "cell_type": "markdown",
   "id": "f4e26cdf",
   "metadata": {},
   "source": [
    "### Namespace Prefixes\n",
    "\n",
    "In SPARQL querying, namespace prefixes are often used to make queries easier to read and write. With namespace prefixes, you can define a prefix for part of the fully qualified IRI and use the prefix in its place. \n",
    "\n",
    "We have extended the syntax for openCypher to enable this feature when writing openCypher over RDF. \n",
    "\n",
    "Prefixes can be defined by adding them to the beginning of the query:\n",
    "\n",
    "```\n",
    "PREFIX nepo: <http://neptune.aws.com/ontology/airroutes/>\n",
    "PREFIX nepr: <http://neptune.aws.com/ontology/airroutes/resource#>\n",
    "PREFIX rdfs: <http://www.w3.org/2000/01/rdf-schema#>\n",
    "```\n",
    "And then they can be used with a double colon:\n",
    "\n",
    "```\n",
    "RETURN airport.rdfs::label, airport.nepo::IATA\n",
    "```\n",
    "### Querying using full IRIs\n",
    "\n",
    "Queries can be designed using fully qualified IRIs..."
   ]
  },
  {
   "cell_type": "code",
   "execution_count": null,
   "id": "4ca1e2c9",
   "metadata": {},
   "outputs": [],
   "source": [
    "%%oc\n",
    "\n",
    "MATCH (airport: `<http://neptune.aws.com/ontology/airroutes/Airport>`)\n",
    "WHERE airport.`<http://neptune.aws.com/ontology/airroutes/ICAO>` = \"KMHT\"\n",
    "RETURN airport.`<http://www.w3.org/2000/01/rdf-schema#label>`,\n",
    "       airport.`<http://neptune.aws.com/ontology/airroutes/IATA>`"
   ]
  },
  {
   "cell_type": "markdown",
   "id": "37179862",
   "metadata": {},
   "source": [
    "### Querying using Namespace Prefixes\n",
    "\n",
    "As an alternative, queries can be designed using namespace prefixes:\n",
    "\n",
    "#### Finding an Airport by its property, the IATA code:"
   ]
  },
  {
   "cell_type": "code",
   "execution_count": null,
   "id": "2b5b09cc",
   "metadata": {},
   "outputs": [],
   "source": [
    "%%oc\n",
    "\n",
    "PREFIX nepo: <http://neptune.aws.com/ontology/airroutes/>\n",
    "PREFIX rdfs: <http://www.w3.org/2000/01/rdf-schema#>\n",
    "\n",
    "MATCH (airport: nepo::Airport)\n",
    "WHERE airport.nepo::IATA = \"MHT\"\n",
    "RETURN airport.rdfs::label"
   ]
  },
  {
   "cell_type": "markdown",
   "id": "d2cbf1c0",
   "metadata": {},
   "source": [
    "#### Finding an Airport node by its ID (RDF Resource IRI):"
   ]
  },
  {
   "cell_type": "code",
   "execution_count": null,
   "id": "250f3f9c",
   "metadata": {},
   "outputs": [],
   "source": [
    "%%oc\n",
    "PREFIX nepo: <http://neptune.aws.com/ontology/airroutes/>\n",
    "PREFIX nepr: <http://neptune.aws.com/ontology/airroutes/resource#>\n",
    "PREFIX rdfs: <http://www.w3.org/2000/01/rdf-schema#>\n",
    "\n",
    "MATCH (airport: nepo::Airport)\n",
    "\n",
    "WHERE id(airport) = nepr::AIRPORT_507    \n",
    "\n",
    "RETURN airport.rdfs::label"
   ]
  },
  {
   "cell_type": "markdown",
   "id": "08c8d8cf",
   "metadata": {},
   "source": [
    "### Finding Direct Flights\n",
    "\n",
    "Here is an openCypher query that returns all the paths in the graph of direct flights between airports. The query is limited to avoid a large response set.\n",
    "\n",
    "Select the 'graph' tab in the response to see a network diagram of the paths.\n",
    "Returning paths in this manner ensures the diagram can be easily rendered as a network."
   ]
  },
  {
   "cell_type": "code",
   "execution_count": null,
   "id": "0d2b120f",
   "metadata": {},
   "outputs": [],
   "source": [
    "%%oc -d <http://www.w3.org/2000/01/rdf-schema#label> \n",
    "\n",
    "PREFIX nepo: <http://neptune.aws.com/ontology/airroutes/>\n",
    "PREFIX rdfs: <http://www.w3.org/2000/01/rdf-schema#>\n",
    "\n",
    "MATCH directFlights = (\n",
    "    (origin: nepo::Airport)\n",
    "        <-[:nepo::source]-(r: nepo::Route)-[:nepo::destination]->\n",
    "    (destination: nepo::Airport)\n",
    ")\n",
    "RETURN directFlights\n",
    "LIMIT 30"
   ]
  },
  {
   "cell_type": "markdown",
   "id": "1dbef32b",
   "metadata": {},
   "source": [
    "### Finding 3 Hop Flights\n",
    "\n",
    "The direct path query is not sufficient to show journeys where multiple stops exist between the source and destination airports. \n",
    "\n",
    "The journey between Manchester-Boston and Helsinki has a minimum of three connecting flights. In total, there are 118 possible routes you could take to make the journey. Here we show the RDFS labels of the Route nodes in the graph:"
   ]
  },
  {
   "cell_type": "code",
   "execution_count": null,
   "id": "188a8d67",
   "metadata": {},
   "outputs": [],
   "source": [
    "%%oc\n",
    "PREFIX rdfs: <http://www.w3.org/2000/01/rdf-schema#>\n",
    "PREFIX nepo: <http://neptune.aws.com/ontology/airroutes/>\n",
    "\n",
    "MATCH (origin:nepo::Airport {nepo::IATA: 'MHT'}) \n",
    "MATCH (destination:nepo::Airport {nepo::IATA: 'HEL'})\n",
    "\n",
    "MATCH p=(origin:nepo::Airport)\n",
    "        -[:nepo::source]-(r)-[:nepo::destination]->()\n",
    "        -[:nepo::source]-(r2)-[:nepo::destination]->()\n",
    "        -[:nepo::source]-(r3)-[:nepo::destination]->\n",
    "        (destination:nepo::Airport)\n",
    "        \n",
    "RETURN r.rdfs::label, r2.rdfs::label, r3.rdfs::label"
   ]
  },
  {
   "cell_type": "markdown",
   "id": "4be470d0",
   "metadata": {},
   "source": [
    "### Adding New Edges with Properties\n",
    "\n",
    "With RDF1.1, you cannot add properties to edges(predicates). However, because the graph is now in our 1Graph model (interoperable between openCypher and RDF), we can add a new edge, and set a property for the number of stops on the journey. \n",
    "\n",
    "Here, we find all the routes with two connecting flights, then for each, we add a new direct edge and a property representing the number of stops:"
   ]
  },
  {
   "cell_type": "code",
   "execution_count": null,
   "id": "5abf86f2",
   "metadata": {},
   "outputs": [],
   "source": [
    "%%oc\n",
    "PREFIX rdfs: <http://www.w3.org/2000/01/rdf-schema#>\n",
    "PREFIX nepo: <http://neptune.aws.com/ontology/airroutes/>\n",
    "\n",
    "MATCH p=(origin:nepo::Airport)\n",
    "        -[:nepo::source]-(r)-[:nepo::destination]->()\n",
    "        -[:nepo::source]-(r2)-[:nepo::destination]->\n",
    "        (destination:nepo::Airport)\n",
    "          \n",
    "CREATE (origin)-[:nepo::hasMultiStopRouteTo {nepo::stops: 2}]->(destination)                                 "
   ]
  },
  {
   "cell_type": "markdown",
   "id": "8086e49d",
   "metadata": {},
   "source": [
    "### How many stops are there on a journey between Edinburgh and Helsinki?\n",
    "\n",
    "With the query below, we can see that a journey between Edinburgh and Helsinki takes two stops."
   ]
  },
  {
   "cell_type": "code",
   "execution_count": null,
   "id": "1ac4eba4",
   "metadata": {},
   "outputs": [],
   "source": [
    "%%oc\n",
    "PREFIX rdfs: <http://www.w3.org/2000/01/rdf-schema#>\n",
    "PREFIX nepo: <http://neptune.aws.com/ontology/airroutes/>\n",
    "\n",
    "MATCH (origin:nepo::Airport {nepo::IATA: 'EDI'}) \n",
    "MATCH (destination:nepo::Airport {nepo::IATA: 'HEL'})\n",
    "\n",
    "MATCH (origin)-[r:nepo::hasMultiStopRouteTo]->(destination)\n",
    "\n",
    "RETURN DISTINCT r.nepo::stops"
   ]
  },
  {
   "cell_type": "markdown",
   "id": "8ee7e5c5",
   "metadata": {},
   "source": [
    "### Using Pathfinding\n",
    "\n",
    "While we could extend this feature to record the number of stops for all multi-stop journeys, a more intelligent modification can be made to the graph, making it easier to compute the number of stops on any journey.\n",
    "\n",
    "Execute the following query to extend the model. This will add an edge directly connecting airports if such a direct route is available."
   ]
  },
  {
   "cell_type": "code",
   "execution_count": null,
   "id": "f21e765a",
   "metadata": {},
   "outputs": [],
   "source": [
    "%%oc\n",
    "\n",
    "PREFIX nepo: <http://neptune.aws.com/ontology/airroutes/>\n",
    "PREFIX rdfs: <http://www.w3.org/2000/01/rdf-schema#>\n",
    "\n",
    "MATCH (origin: nepo::Airport)\n",
    "        <-[:nepo::source]-(r: nepo::Route)-[:nepo::destination]->\n",
    "      (destination: nepo::Airport)\n",
    "\n",
    "CREATE (origin)-[:nepo::hasDirectRouteTo]->(destination)"
   ]
  },
  {
   "cell_type": "markdown",
   "id": "8f1435e3",
   "metadata": {},
   "source": [
    "### The extended Ontology / Schema"
   ]
  },
  {
   "attachments": {
    "Airroutes%20-%20Copy%20of%20Copy%20of%20Page%202.png": {
     "image/png": "[encoded data removed]"
    }
   },
   "cell_type": "markdown",
   "id": "ff62463c",
   "metadata": {},
   "source": [
    "![Airroutes%20-%20Copy%20of%20Copy%20of%20Page%202.png](attachment:Airroutes%20-%20Copy%20of%20Copy%20of%20Page%202.png)"
   ]
  },
  {
   "cell_type": "markdown",
   "id": "7fd99746",
   "metadata": {},
   "source": [
    "### Variable Length Paths\n",
    "Now, we can execute openCypher pathfinding queries with variable length paths. \n",
    "Execute the query below to see different journeys you can take starting from Manchester-Boston, with up to three stops. Click on the graph tab to see the network diagram."
   ]
  },
  {
   "cell_type": "code",
   "execution_count": null,
   "id": "e486e320",
   "metadata": {},
   "outputs": [],
   "source": [
    "%%oc -d <http://www.w3.org/2000/01/rdf-schema#label> \n",
    "\n",
    "PREFIX nepo: <http://neptune.aws.com/ontology/airroutes/>\n",
    "PREFIX rdfs: <http://www.w3.org/2000/01/rdf-schema#>\n",
    "\n",
    "MATCH (origin:nepo::Airport {nepo::IATA: 'MHT'}) \n",
    "\n",
    "MATCH directFlights = (origin)-[r: nepo::hasDirectRouteTo*..3]->(n2)\n",
    "return directFlights\n",
    "limit 100"
   ]
  },
  {
   "cell_type": "markdown",
   "id": "828e072d",
   "metadata": {},
   "source": [
    "### Neptune Analytics Algorithms\n",
    "\n",
    "Neptune Analytics provides a set of optimized in-database implementations of common graph algorithms, which are exposed as openCypher procedures. These algorithms analyze inherent aspects of the underlying graph structure, such as connectedness (path finding), relative importance (centrality), and community membership (community detection).\n",
    "\n",
    "For more information about how to run each of the different algorithms, visit the [Neptune Analytics Algorithms documentation](https://docs.aws.amazon.com/neptune-analytics/latest/userguide/algorithms.html).\n",
    "\n",
    "Here, we run the PageRank algorithm to see which airports are the busiest."
   ]
  },
  {
   "cell_type": "code",
   "execution_count": null,
   "id": "7041e560",
   "metadata": {},
   "outputs": [],
   "source": [
    "%%oc\n",
    "PREFIX rdfs: <http://www.w3.org/2000/01/rdf-schema#>\n",
    "PREFIX nepo: <http://neptune.aws.com/ontology/airroutes/>\n",
    "\n",
    "MATCH (airport:nepo::Airport)\n",
    "\n",
    "CALL neptune.algo.pageRank(airport, {\n",
    "   edgeLabels : [nepo::hasDirectRouteTo] \n",
    "})\n",
    "YIELD node\n",
    "MATCH (node)-[e: nepo::hasDirectRouteTo]-()\n",
    "\n",
    "RETURN id(airport), airport.rdfs::label, COUNT(e) AS connections, airport.nepo::ICAO\n",
    "ORDER BY connections DESC\n",
    "LIMIT 100"
   ]
  }
 ],
 "metadata": {
  "kernelspec": {
   "display_name": "Python 3",
   "language": "python",
   "name": "python3"
  },
  "language_info": {
   "codemirror_mode": {
    "name": "ipython",
    "version": 3
   },
   "file_extension": ".py",
   "mimetype": "text/x-python",
   "name": "python",
   "nbconvert_exporter": "python",
   "pygments_lexer": "ipython3",
   "version": "3.10.13"
  }
 },
 "nbformat": 4,
 "nbformat_minor": 5
}
