{
 "cells": [
  {
   "cell_type": "markdown",
   "id": "bd69c263-2846-44cf-a780-d42b56624772",
   "metadata": {},
   "source": [
    "# Introduction to Software Bill Of Materials Dependency Analysis\n",
    "\n",
    "**Note** For a detailed introduction to Software Bill Of Materials please click read [Intro to Software Bill Of Materials](./00-Intro-to-Software-Bill-Of-Materials.ipynb)\n",
    "\n",
    "Software Bill of Materials (SBOM) contain details about the components and dependencies that make up a piece of software. This includes libraries, frameworks, modules, and more.  Loading SBOM files into a graph provides an efficient mechanism to explore common SBOM use cases such as Dependency Analysis.  Understanding dependencies allows teams to identify security vulnerabilities or licensing issues that may arise from open source or third-party code used in their software. Vulnerable dependencies are a major source of risk.  Dependency analysis provides visibility into all the direct and transitive dependencies used in a project. This allows security, legal, and development teams to gain a comprehensive inventory of the open source being utilized.\n",
    "\n",
    "During development and maintenance, dependency analysis helps prevent out-of-date or vulnerable components from entering the software supply chain. It supports enforcing policies around usage of open source and third-party code.  When issues are found in upstream dependencies, analysis of SBOMs allows faster remediation as the impacted downstream software products and versions can be quickly identified from their bill of materials. At an organizational-level, SBOMs and dependency analysis support understanding third-party usage, reducing duplicate work, optimizing licensing expenditure, preventing vendor lock-in, and improving software supply chain security.\n",
    "\n",
    "In summary, dependency analysis of SBOMs grants security and transparency into the software supply chain, allowing teams to efficiently mitigate risks introduced through use of third-party and open source components."
   ]
  },
  {
   "attachments": {
    "9924810b-14df-435d-b3de-c15bcebcb35b.png": {
     "image/png": "[encoded data removed]"
    }
   },
   "cell_type": "markdown",
   "id": "1e4cf3f8-86e2-48f1-836a-06516d13bafd",
   "metadata": {},
   "source": [
    "## Data Model\n",
    "\n",
    "**Note** The data model being used has been covered in [Intro to Software Bill Of Materials](./00-Intro-to-Software-Bill-Of-Materials.ipynb) so please read that to get a deeper understanding of the summary presented below.\n",
    "\n",
    "![image.png](attachment:9924810b-14df-435d-b3de-c15bcebcb35b.png)\n",
    "\n",
    "**Node Types**\n",
    "* `Document` - This represents the SBOM document as well as the metadata associated with that SBOM.\n",
    "* `Component` - This represents a specific component of a software system.\n",
    "* `Reference` - This represents a reference to any external system which the system wanted to include as a reference.  This can range from package managers, URLs to external websites, etc.\n",
    "* `Vulnerability` - This represents a specific known vulnerability for a component. \n",
    "\n",
    "**Edge Types**\n",
    "* `DESCRIBES`/`DEPENDS_ON`/`DEPENDENCY_OF`/`DESCRIBED_BY`/`CONTAINS` - This represents the type of relationship between a `Document` and a `Component` in the system. \n",
    "* `REFERS_TO` - This represents a reference between a `Component` and a `Reference`\n",
    "* `AFFECTS` - This represents that a particular `Component` is affected by the connected `Vulnerability`\n"
   ]
  },
  {
   "cell_type": "markdown",
   "id": "c405d964-1ceb-47c2-835b-7146a18842d3",
   "metadata": {},
   "source": [
    "## Loading SBOM Data\n",
    "\n",
    "In this notebook we will use the [sbom_writer](./code/sbom_writer.py) Python module provided to load several SPDX files which were sourced from Github using it's SBOM feature, detailed [here](https://docs.github.com/en/rest/dependency-graph/sboms).  The including files for this notebook are:\n",
    "\n",
    "* [AWS Graph Explorer](https://github.com/aws/graph-explorer)\n",
    "* [Graph Notebook](https://github.com/aws/graph-notebook)\n",
    "* [AWS SDK For pandas](https://github.com/aws/aws-sdk-pandas)\n",
    "* [boto3](https://github.com/boto/boto3)\n",
    "\n",
    "<div class=\"alert alert-block alert-info\"> \n",
    "<details>\n",
    "    <summary>✏️<b><i> Click here for a tip</i></b></summary>\n",
    "  \n",
    "If you would like to import your own SBOM files, this can be done by either saving them, in JSON format, to the `./example_sboms/01/` directory or by changing the directory location in the code below.\n",
    "</details>\n",
    "</div>"
   ]
  },
  {
   "cell_type": "code",
   "execution_count": null,
   "id": "91e7ea13-521a-4f34-bdbd-d9f8791fa978",
   "metadata": {
    "tags": []
   },
   "outputs": [],
   "source": [
    "import json\n",
    "import os\n",
    "import graph_notebook as gn\n",
    "from code import sbom_writer as sbom\n",
    "\n",
    "# Retrieve the notebook configuration information to pass in as parameters\n",
    "config = gn.configuration.get_config.get_config()\n",
    "graph_identifier = config.host.split('.')[0]\n",
    "region = config.aws_region\n",
    "\n",
    "# Create the SBOM writer\n",
    "writer = sbom.NeptuneAnalyticsSBOMWriter(graph_identifier, region)\n",
    "\n",
    "# Recursively write all the examples to graph\n",
    "directory = \"./example_sboms/01/\"\n",
    "for f in os.listdir(directory):\n",
    "    if f.endswith(\".json\") or f.endswith(\".txt\"):\n",
    "        with open(os.path.join(directory, f)) as file:\n",
    "            print(f\"Writing file {f}\")\n",
    "            data = json.load(file)\n",
    "            writer.write_sbom(data)\n",
    "\n",
    "print(f\"Import Complete\")"
   ]
  },
  {
   "cell_type": "markdown",
   "id": "a8630fc3-c3f8-456c-820a-8b254f9f164e",
   "metadata": {},
   "source": [
    "## Dependency Management\n",
    "\n",
    "Now that we have completed importing these SBOM files, let's begin by visualizing what the graph of an SBOM.\n",
    "\n",
    "### Graph of components for the `graph-notebook`"
   ]
  },
  {
   "cell_type": "code",
   "execution_count": null,
   "id": "1a4533b2-7ef9-48ac-b7f3-759adcc0b544",
   "metadata": {
    "tags": []
   },
   "outputs": [],
   "source": [
    "%%oc  -d name\n",
    "\n",
    "MATCH p=(n:Document {name: 'com.github.aws/graph-notebook'})-[]->()\n",
    "RETURN p"
   ]
  },
  {
   "cell_type": "markdown",
   "id": "05a38fe4-02ba-435a-b1dc-f36919e332bb",
   "metadata": {},
   "source": [
    "Now, let's take a look at the entire SBOM for this project.\n",
    "\n",
    "### Graph of entire SBOM for the `graph-notebook`"
   ]
  },
  {
   "cell_type": "code",
   "execution_count": null,
   "id": "5f52d7a8-4a11-4ddf-b6f5-7e4c8b760721",
   "metadata": {
    "tags": []
   },
   "outputs": [],
   "source": [
    "%%oc -d name\n",
    "\n",
    "MATCH p=(n:Document {name: 'com.github.aws/graph-notebook'})-[*1..2]->()\n",
    "RETURN p"
   ]
  },
  {
   "cell_type": "markdown",
   "id": "e0ee4f37-9d5b-4ba2-9e8e-e949ef1c0d88",
   "metadata": {},
   "source": [
    "## Shared Dependencies\n",
    "\n",
    "Another common use case with multiple SBOM's is to analyze and investigate shared dependencies across projects.  Shared dependencies allow development and security teams to better understand the security posture of the organization through identification of shared risks.  Let's start by taking a look at all the shared dependencies between these projects.\n",
    "\n",
    "### Viewing shared dependencies"
   ]
  },
  {
   "cell_type": "code",
   "execution_count": null,
   "id": "21bbb65b-f771-4bf2-b771-1d3a01edd8fe",
   "metadata": {
    "tags": []
   },
   "outputs": [],
   "source": [
    "%%oc -d name\n",
    "\n",
    "MATCH p=(d1:Document)-[r]->(c:Component)<-[]-(d2:Document)\n",
    "WHERE d1 <> d2\n",
    "RETURN p"
   ]
  },
  {
   "cell_type": "markdown",
   "id": "5b122546-58b1-4691-947c-f2a9195205a8",
   "metadata": {},
   "source": [
    "Now, let's take a look at the top 10 most shared dependencies.\n",
    "\n",
    "### Which is the most shared dependency"
   ]
  },
  {
   "cell_type": "code",
   "execution_count": null,
   "id": "d3398a81-4efc-452e-9f3b-ba9caa066e06",
   "metadata": {},
   "outputs": [],
   "source": [
    "%%oc --store-to degree_data\n",
    "\n",
    "MATCH (n:Component)\n",
    "CALL neptune.algo.degree(n, {traversalDirection: 'both', edgeLabels: ['DEPENDS_ON']})\n",
    "YIELD node, degree\n",
    "RETURN node.name, degree\n",
    "ORDER BY degree DESC \n",
    "LIMIT 10"
   ]
  },
  {
   "cell_type": "markdown",
   "id": "84acd344-132f-469d-b4e5-a6a3838adda0",
   "metadata": {},
   "source": [
    "Now that we know the most often shared dependency, let's take a look at the projects that share this dependency.\n",
    "\n",
    "### Let's investigate this shared dependency's connections"
   ]
  },
  {
   "cell_type": "code",
   "execution_count": null,
   "id": "a31ff0d9-da3e-4c54-9d08-b84b2c2869e3",
   "metadata": {
    "tags": []
   },
   "outputs": [],
   "source": [
    "params = {'name': degree_data['results'][0]['node.name']}"
   ]
  },
  {
   "cell_type": "code",
   "execution_count": null,
   "id": "19ae58cb-6125-431a-882e-d89bf71d24ec",
   "metadata": {
    "tags": []
   },
   "outputs": [],
   "source": [
    "%%oc -qp params -d name\n",
    "\n",
    "MATCH p=(n: Component {name: $name})<-[:DEPENDS_ON]-()\n",
    "RETURN p"
   ]
  },
  {
   "cell_type": "markdown",
   "id": "139c53c7-0fcd-4117-9696-e9a483486ad1",
   "metadata": {},
   "source": [
    "As we see, all four of our projects depend on the same component.  This sort of information is valuable during development and maintenance to prevent out-of-date or vulnerable components from entering the software supply chain."
   ]
  },
  {
   "cell_type": "markdown",
   "id": "04171082-c883-4679-8956-303d21da09b1",
   "metadata": {},
   "source": [
    "## Cyclic Dependencies\n",
    "\n",
    "Cyclic dependencies refer to situations where two or more components depend on each other in a circular fashion. For example, component A depends on component B, which in turn depends on component C, which then depends back on component A.\n",
    "\n",
    "Identifying cyclic dependencies is important for a few reasons:\n",
    "\n",
    "* It highlights potential design issues - cyclic dependencies make code more tightly coupled and harder to maintain.\n",
    "\n",
    "* It impacts security vulnerability analysis - if one component has a vulnerability, all cyclically dependent components could be impacted.\n",
    "\n",
    "* It aids refactoring and restructuring efforts - breaking down cyclic groups into more hierarchical structures.\n",
    "\n",
    "Overall, analyzing cyclical dependencies in SBOMs provides insights into the architecture, security, and license compliance of large modern applications with many interconnected components. Removing cycles when possible leads to more resilient and sustainable software.\n",
    "\n",
    "To identify cyclic dependencies in an SBOM we can leverage the fact that a well designed application will contain components that make up a [directed acyclic graph](https://en.wikipedia.org/wiki/Directed_acyclic_graph).  A directed graph is acyclic if and only if it has no strongly connected subgraphs with more than one vertex.  A directed cycle is strongly connected and every non-trivial strongly connected component contains at least one directed cycle.  We can leverage a graph algorithm known as [Strongly Connected Components](https://docs.aws.amazon.com/neptune-analytics/latest/userguide/scc.html) to test for these within our graph.  In this scenario we would expect that every component returned would only contain a single node."
   ]
  },
  {
   "cell_type": "code",
   "execution_count": null,
   "id": "9b2a537d-8224-4dc1-9f42-95500ac908dd",
   "metadata": {
    "tags": []
   },
   "outputs": [],
   "source": [
    "%%oc \n",
    "\n",
    "MATCH (n) \n",
    "WHERE NOT n:Reference\n",
    "CALL neptune.algo.scc(n)\n",
    "YIELD node, component\n",
    "WITH component, count(node) as cnt\n",
    "WHERE cnt>1\n",
    "RETURN component"
   ]
  },
  {
   "cell_type": "markdown",
   "id": "b2486dee-eb90-4318-a2d3-9cf3904e1cb6",
   "metadata": {},
   "source": [
    "## Next Steps\n",
    "\n",
    "In this notebook, we have demonstrated how to perform Dependency Analysis on SBOMs using Neptune Analytics.  While this notebook used a set of specific SBOM files the code provided in `sbom_writer.py` may also be used to load your own SBOM files, using the code below:\n",
    "\n",
    "```\n",
    "import json\n",
    "import os\n",
    "from code import sbom_writer as sbom\n",
    "\n",
    "# Create the SBOM writer\n",
    "writer = sbom.NeptuneAnalyticsSBOMWriter(graph_identifier, region)\n",
    "\n",
    "# Recursively write all the examples to graph\n",
    "directory = \"<INSERT DIRECTORY HERE>\"\n",
    "for f in os.listdir(directory):\n",
    "    if f.endswith(\".json\") or f.endswith(\".txt\"):\n",
    "        with open(os.path.join(directory, f)) as file:\n",
    "            print(f\"Writing file {f}\")\n",
    "            data = json.load(file)\n",
    "            writer.write_sbom(data)\n",
    "\n",
    "print(f\"Import Complete\")\n",
    "```\n",
    "\n",
    "If you are interested in the other types of SBOM analysis please look at the other notebooks available:\n",
    "\n",
    "* [SBOM Vulnerability Analysis](./02-SBOM-Vulnerability-Analysis.ipynb)"
   ]
  }
 ],
 "metadata": {
  "kernelspec": {
   "display_name": "Python 3",
   "language": "python",
   "name": "python3"
  },
  "language_info": {
   "codemirror_mode": {
    "name": "ipython",
    "version": 3
   },
   "file_extension": ".py",
   "mimetype": "text/x-python",
   "name": "python",
   "nbconvert_exporter": "python",
   "pygments_lexer": "ipython3",
   "version": "3.10.8"
  }
 },
 "nbformat": 4,
 "nbformat_minor": 5
}
