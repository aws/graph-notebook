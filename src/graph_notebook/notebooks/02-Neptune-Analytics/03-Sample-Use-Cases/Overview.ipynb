{
 "cells": [
  {
   "cell_type": "markdown",
   "id": "dd9b6833-3967-45e1-87fc-a8a6fcb65532",
   "metadata": {
    "tags": []
   },
   "source": [
    "# Sample User Case Overview\n",
    "\n",
    "- [FinTech]('./01-FinTech') - In this folder you will find use case examples focused on the FinTech industry.  Currently the use case example focuses on how to perform a fraud ring analysis using graph algorithms and traversals to risk anomalous behaviors using a guilt by association approach.\n",
    "- [Investment Analysis]('./02-Investment-Analysis') - In this folder you will find use case examples focused on Investment analysis.  Currently the use case example focuses on using data from the [EDGAR system](https://www.sec.gov/edgar/search-and-access) to demonstrate how to leverage, graphs, graph analytics, and vector similarity to perform investment analysis of stock holdings."
   ]
  }
 ],
 "metadata": {
  "kernelspec": {
   "display_name": "Python 3",
   "language": "python",
   "name": "python3"
  },
  "language_info": {
   "codemirror_mode": {
    "name": "ipython",
    "version": 3
   },
   "file_extension": ".py",
   "mimetype": "text/x-python",
   "name": "python",
   "nbconvert_exporter": "python",
   "pygments_lexer": "ipython3",
   "version": "3.10.13"
  }
 },
 "nbformat": 4,
 "nbformat_minor": 5
}
