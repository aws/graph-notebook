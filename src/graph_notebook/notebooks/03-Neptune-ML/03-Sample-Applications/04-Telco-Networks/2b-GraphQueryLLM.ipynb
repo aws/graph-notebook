{
 "cells": [
  {
   "cell_type": "markdown",
   "id": "d61c99ba-5349-472b-a5bd-f54964d27f17",
   "metadata": {
    "tags": []
   },
   "source": [
    "## Querying the Network Graph with Natural language\n",
    "\n",
    "This notebook shows how you can ask questions in natural language about the data in the graph database using the Neptune\n",
    "Langchain integration and Amazon Bedrock Anthropic Claude 3.5v2 model."
   ]
  },
  {
   "cell_type": "code",
   "id": "60a09cea-ae76-45d0-9dc1-860fc3ad833f",
   "metadata": {
    "tags": []
   },
   "source": "!pip install langchain langchain-community langchain-aws --quiet",
   "outputs": [],
   "execution_count": null
  },
  {
   "cell_type": "code",
   "id": "fb336cc7-2316-43a3-ac3d-6984b08ef228",
   "metadata": {
    "tags": []
   },
   "source": [
    "from langchain_aws import ChatBedrock\n",
    "from langchain.chains import NeptuneOpenCypherQAChain\n",
    "from langchain.graphs import NeptuneGraph"
   ],
   "outputs": [],
   "execution_count": null
  },
  {
   "cell_type": "code",
   "id": "2a4b753d-6e9c-4f62-86b5-259165ff9f91",
   "metadata": {
    "tags": []
   },
   "source": [
    "host = \"<your_neptune_host_endpoint>\" # e.g. cluster.cluster-xxxxxxxx.region.neptune.amazonaws.com\n",
    "port = 8182\n",
    "use_https = True"
   ],
   "outputs": [],
   "execution_count": null
  },
  {
   "cell_type": "code",
   "id": "4bc8717c-1d03-442d-9517-6adaa8768d09",
   "metadata": {
    "tags": []
   },
   "source": [
    "graph = NeptuneGraph(host=host, port=port, use_https=use_https)"
   ],
   "outputs": [],
   "execution_count": null
  },
  {
   "cell_type": "code",
   "id": "4e5bd3a5-02d5-4cc6-8caa-df08659aaed7",
   "metadata": {
    "tags": []
   },
   "source": [
    "llm = ChatBedrock(\n",
    "    model_id = \"anthropic.claude-3-5-sonnet-20241022-v2:0\"\n",
    ")\n",
    "\n",
    "chain = NeptuneOpenCypherQAChain.from_llm(\n",
    "    llm = llm, \n",
    "    graph = graph, \n",
    "    verbose = True, \n",
    "    top_K = 10, \n",
    "    return_intermediate_steps=True, \n",
    "    return_direct=False,\n",
    "    allow_dangerous_requests=True\n",
    ")"
   ],
   "outputs": [],
   "execution_count": null
  },
  {
   "cell_type": "markdown",
   "id": "22910c4b-79de-440d-a2a2-0c4409bd4423",
   "metadata": {},
   "source": [
    "# Explore edges"
   ]
  },
  {
   "cell_type": "code",
   "id": "845025be-87a9-4aaa-8855-8b0bb17010ad",
   "metadata": {
    "tags": []
   },
   "source": [
    "res = chain.invoke(\"How many edges between the users and the cells in the graph?\")\n",
    "print(res['result'])"
   ],
   "outputs": [],
   "execution_count": null
  },
  {
   "cell_type": "code",
   "id": "6e8cfaf2-761a-48d3-b704-e058a21d679b",
   "metadata": {
    "tags": []
   },
   "source": [
    "res = chain.run(\"How many vertexes of type user?\")\n",
    "print(res['result'])"
   ],
   "outputs": [],
   "execution_count": null
  },
  {
   "cell_type": "code",
   "id": "5b4dabd3-6369-4853-a767-359babef7be1",
   "metadata": {
    "tags": []
   },
   "source": [
    "res = chain.run(\"How many nodes of type cell?\")\n",
    "print(res['result'])"
   ],
   "outputs": [],
   "execution_count": null
  },
  {
   "cell_type": "code",
   "id": "1f53149c-23ca-4702-a32d-33f4e4a662b6",
   "metadata": {
    "tags": []
   },
   "source": [
    "res = chain.run(\"How many vertexes of type gnodeb?\")\n",
    "print(res['result'])"
   ],
   "outputs": [],
   "execution_count": null
  },
  {
   "cell_type": "code",
   "id": "0d658504-0c87-4fe5-8e7c-0581d828f5b8",
   "metadata": {
    "tags": []
   },
   "source": [
    "res = chain.run(\"List the two types of edges.\")\n",
    "print(res['result'])"
   ],
   "outputs": [],
   "execution_count": null
  },
  {
   "cell_type": "code",
   "id": "69b7fc44-b5a1-464f-b414-363ac7e48ac1",
   "metadata": {
    "tags": []
   },
   "source": [
    "res = chain.run(\"Count the edges between the cell and gnodeb.\")\n",
    "print(res['result'])"
   ],
   "outputs": [],
   "execution_count": null
  },
  {
   "cell_type": "code",
   "id": "75711c07-ee2b-44c1-be42-bd2bd514c622",
   "metadata": {
    "tags": []
   },
   "source": [
    "res = chain.run(\"Count how many edges there are for cell_relatedto_gnodeb and user_live_cell.\")\n",
    "print(res['result'])"
   ],
   "outputs": [],
   "execution_count": null
  },
  {
   "cell_type": "code",
   "id": "dafb88cc-6969-45ec-bc6c-4329dd5ca092",
   "metadata": {
    "tags": []
   },
   "source": [
    "res = chain.run(\"What are the types of vertexes?\")\n",
    "print(res['result'])"
   ],
   "outputs": [],
   "execution_count": null
  },
  {
   "cell_type": "code",
   "id": "acb64772-b929-45dd-8402-4ba82ae93cfe",
   "metadata": {
    "tags": []
   },
   "source": [
    "res = chain.run(\"To which cells is user_1500 connected?\")\n",
    "print(res['result'])"
   ],
   "outputs": [],
   "execution_count": null
  },
  {
   "cell_type": "code",
   "id": "aee5eb2b-c543-4b86-94bb-86254c097fa6",
   "metadata": {},
   "source": [],
   "outputs": [],
   "execution_count": null
  }
 ],
 "metadata": {
  "kernelspec": {
   "display_name": "Python 3",
   "language": "python",
   "name": "python3"
  },
  "language_info": {
   "codemirror_mode": {
    "name": "ipython",
    "version": 3
   },
   "file_extension": ".py",
   "mimetype": "text/x-python",
   "name": "python",
   "nbconvert_exporter": "python",
   "pygments_lexer": "ipython3",
   "version": "3.10.8"
  }
 },
 "nbformat": 4,
 "nbformat_minor": 5
}
