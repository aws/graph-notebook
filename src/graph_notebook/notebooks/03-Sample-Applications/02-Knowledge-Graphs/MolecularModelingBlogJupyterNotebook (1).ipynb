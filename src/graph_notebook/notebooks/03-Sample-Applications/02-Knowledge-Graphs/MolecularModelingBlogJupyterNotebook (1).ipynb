{
 "cells": [
  {
   "cell_type": "markdown",
   "id": "e147f141",
   "metadata": {},
   "source": [
    "**Model molecular SMILES data with Amazon Neptune and RDKit**"
   ]
  },
  {
   "cell_type": "markdown",
   "id": "63016f6c",
   "metadata": {},
   "source": [
    "   Modeling chemical structures can be a complex and tedious process, even with the help of modern programs and technology. The ability to explore chemical structures at the most fundamental level of atoms and the bonds that connect them is an essential process in [drug discovery, pharmaceutical research](https://pubs.acs.org/doi/abs/10.1021/acs.jcim.0c00947), and [chemical engineering](https://www.ncbi.nlm.nih.gov/pmc/articles/PMC8130509/). By infusing chemical research with technology, researchers can expedite outcome timelines, identify hidden relationships, and overall simplify a traditionally complex process. "
   ]
  },
  {
   "cell_type": "markdown",
   "id": "a9bfdfa6",
   "metadata": {},
   "source": [
    "**Solution Overview**"
   ]
  },
  {
   "cell_type": "markdown",
   "id": "33e4d4ac",
   "metadata": {},
   "source": [
    "In order to integrate technology into the analysis of chemical structures, molecules themselves must first be represented in a machine-readable format, such as [SMILES (simplified molecular-input line-entry system)](https://en.wikipedia.org/wiki/Simplified_molecular-input_line-entry_system). SMILES format strings are the industry standard in representing molecular structures. The SMILES format enables the relationships between atoms in a molecular structure to be conveyed as a machine processable string. The SMILES format is not all encompassing, leaving out details such as certain polarities and bond properties. However, SMILES does enable powerful analysis at scale of different structures. \n",
    "\n",
    "Using Amazon Neptune and open-source chemical-informaics software package [RDKit](https://www.rdkit.org/), SMILES format data can be ingested, processed, and converted into nodes and edges in a property graph. Modeling molecular structures in a graph database allows for powerful custom visualization and manipulation at the scale demanded by pharmaceutical applications. Utilizing a graph database such as Neptune allows users to compare millions of molecules with millions of associated interactions. Additionally, the fully managed and serverless infrastructure allows experts with backgrounds in biology and chemistry to focus primarily on the research outcomes of their graph data, avoiding the undifferentiated heavy lifting of managing a complex graph database infrastructure.\n",
    "\n",
    "This walkthrough follows the process of converting a singular SMILES string, caffeine, to graph data in Neptune. However, the process will work for any SMILES format string you would like to use. We’re sourcing the string for caffeine from the [National Library of Medicine](https://pubchem.ncbi.nlm.nih.gov/compound/2519#section=InChI), which maintains a public dataset of many chemical structures [CN1C=NC2=C1C(=O)N(C(=O)N2C)C].\n"
   ]
  },
  {
   "cell_type": "markdown",
   "id": "79e81e96",
   "metadata": {},
   "source": [
    "We also use the open-source cheminformatics package [RDKit](https://github.com/rdkit/rdkit), Python-based data science package [Pandas](https://pandas.pydata.org/), and [AWS SDK for pandas (awswrangler)](https://aws-sdk-pandas.readthedocs.io/en/stable/). RDKit has a strong community and a great number of chem-informatics utilities; we’ll only be exploring a small portion for this post. Pandas is an open-source Python-based data science toolkit with large community support. AWS SDK for pandas provides a large librarty to help AWS services interact with the pandas library."
   ]
  },
  {
   "cell_type": "markdown",
   "id": "c49cf299",
   "metadata": {},
   "source": [
    "**Package Setup**"
   ]
  },
  {
   "cell_type": "markdown",
   "id": "4e1c8a9d",
   "metadata": {},
   "source": [
    "The first step in modeling a chemical structure as graph data is importing the required packages. Here we will be using RDKit, Pandas, and awswrangler"
   ]
  },
  {
   "cell_type": "code",
   "execution_count": 26,
   "id": "cb5f3b98",
   "metadata": {},
   "outputs": [
    {
     "name": "stdout",
     "output_type": "stream",
     "text": [
      "Looking in indexes: https://pypi.org/simple, https://pip.repos.neuron.amazonaws.com\n",
      "Requirement already satisfied: rdkit in /home/ec2-user/anaconda3/envs/JupyterSystemEnv/lib/python3.7/site-packages (2022.9.5)\n",
      "Requirement already satisfied: Pillow in /home/ec2-user/anaconda3/envs/JupyterSystemEnv/lib/python3.7/site-packages (from rdkit) (9.5.0)\n",
      "Requirement already satisfied: numpy in /home/ec2-user/anaconda3/envs/JupyterSystemEnv/lib/python3.7/site-packages (from rdkit) (1.21.6)\n",
      "Note: you may need to restart the kernel to use updated packages.\n"
     ]
    }
   ],
   "source": [
    "%pip install rdkit"
   ]
  },
  {
   "cell_type": "code",
   "execution_count": 27,
   "id": "440c97e6",
   "metadata": {},
   "outputs": [
    {
     "name": "stdout",
     "output_type": "stream",
     "text": [
      "Looking in indexes: https://pypi.org/simple, https://pip.repos.neuron.amazonaws.com\n",
      "Requirement already satisfied: awswrangler in /home/ec2-user/anaconda3/envs/JupyterSystemEnv/lib/python3.7/site-packages (2.20.1)\n",
      "Requirement already satisfied: gremlinpython<4.0.0,>=3.5.2 in /home/ec2-user/anaconda3/envs/JupyterSystemEnv/lib/python3.7/site-packages (from awswrangler) (3.6.1)\n",
      "Requirement already satisfied: redshift-connector<2.1.0,>=2.0.889 in /home/ec2-user/anaconda3/envs/JupyterSystemEnv/lib/python3.7/site-packages (from awswrangler) (2.0.910)\n",
      "Requirement already satisfied: backoff<3.0.0,>=1.11.1 in /home/ec2-user/anaconda3/envs/JupyterSystemEnv/lib/python3.7/site-packages (from awswrangler) (2.2.1)\n",
      "Requirement already satisfied: boto3<2.0.0,>=1.24.11 in /home/ec2-user/anaconda3/envs/JupyterSystemEnv/lib/python3.7/site-packages (from awswrangler) (1.26.53)\n",
      "Requirement already satisfied: openpyxl<3.1.0,>=3.0.0 in /home/ec2-user/anaconda3/envs/JupyterSystemEnv/lib/python3.7/site-packages (from awswrangler) (3.0.10)\n",
      "Requirement already satisfied: pandas!=1.5.0,<2.0.0,<=1.5.1,>=1.2.0 in /home/ec2-user/anaconda3/envs/JupyterSystemEnv/lib/python3.7/site-packages (from awswrangler) (1.3.5)\n",
      "Requirement already satisfied: opensearch-py<3,>=1 in /home/ec2-user/anaconda3/envs/JupyterSystemEnv/lib/python3.7/site-packages (from awswrangler) (2.2.0)\n",
      "Requirement already satisfied: requests-aws4auth<2.0.0,>=1.1.1 in /home/ec2-user/anaconda3/envs/JupyterSystemEnv/lib/python3.7/site-packages (from awswrangler) (1.2.2)\n",
      "Requirement already satisfied: pg8000<2.0.0,>=1.20.0 in /home/ec2-user/anaconda3/envs/JupyterSystemEnv/lib/python3.7/site-packages (from awswrangler) (1.29.4)\n",
      "Requirement already satisfied: numpy<=1.23.4,>=1.21.0 in /home/ec2-user/anaconda3/envs/JupyterSystemEnv/lib/python3.7/site-packages (from awswrangler) (1.21.6)\n",
      "Requirement already satisfied: progressbar2<5.0.0,>=4.0.0 in /home/ec2-user/anaconda3/envs/JupyterSystemEnv/lib/python3.7/site-packages (from awswrangler) (4.2.0)\n",
      "Requirement already satisfied: botocore<2.0.0,>=1.27.11 in /home/ec2-user/anaconda3/envs/JupyterSystemEnv/lib/python3.7/site-packages (from awswrangler) (1.29.53)\n",
      "Requirement already satisfied: pymysql<2.0.0,>=1.0.0 in /home/ec2-user/anaconda3/envs/JupyterSystemEnv/lib/python3.7/site-packages (from awswrangler) (1.0.3)\n",
      "Requirement already satisfied: pyarrow<10.1.0,>=2.0.0 in /home/ec2-user/anaconda3/envs/JupyterSystemEnv/lib/python3.7/site-packages (from awswrangler) (10.0.1)\n",
      "Requirement already satisfied: jsonpath-ng<2.0.0,>=1.5.3 in /home/ec2-user/anaconda3/envs/JupyterSystemEnv/lib/python3.7/site-packages (from awswrangler) (1.5.3)\n",
      "Requirement already satisfied: jmespath<2.0.0,>=0.7.1 in /home/ec2-user/anaconda3/envs/JupyterSystemEnv/lib/python3.7/site-packages (from boto3<2.0.0,>=1.24.11->awswrangler) (1.0.1)\n",
      "Requirement already satisfied: s3transfer<0.7.0,>=0.6.0 in /home/ec2-user/anaconda3/envs/JupyterSystemEnv/lib/python3.7/site-packages (from boto3<2.0.0,>=1.24.11->awswrangler) (0.6.0)\n",
      "Requirement already satisfied: urllib3<1.27,>=1.25.4 in /home/ec2-user/anaconda3/envs/JupyterSystemEnv/lib/python3.7/site-packages (from botocore<2.0.0,>=1.27.11->awswrangler) (1.26.8)\n",
      "Requirement already satisfied: python-dateutil<3.0.0,>=2.1 in /home/ec2-user/anaconda3/envs/JupyterSystemEnv/lib/python3.7/site-packages (from botocore<2.0.0,>=1.27.11->awswrangler) (2.8.2)\n",
      "Requirement already satisfied: isodate<1.0.0,>=0.6.0 in /home/ec2-user/anaconda3/envs/JupyterSystemEnv/lib/python3.7/site-packages (from gremlinpython<4.0.0,>=3.5.2->awswrangler) (0.6.1)\n",
      "Requirement already satisfied: aiohttp<=3.8.1,>=3.8.0 in /home/ec2-user/anaconda3/envs/JupyterSystemEnv/lib/python3.7/site-packages (from gremlinpython<4.0.0,>=3.5.2->awswrangler) (3.8.1)\n",
      "Requirement already satisfied: nest-asyncio in /home/ec2-user/anaconda3/envs/JupyterSystemEnv/lib/python3.7/site-packages (from gremlinpython<4.0.0,>=3.5.2->awswrangler) (1.5.6)\n",
      "Requirement already satisfied: aenum<4.0.0,>=1.4.5 in /home/ec2-user/anaconda3/envs/JupyterSystemEnv/lib/python3.7/site-packages (from gremlinpython<4.0.0,>=3.5.2->awswrangler) (3.1.12)\n",
      "Requirement already satisfied: decorator in /home/ec2-user/anaconda3/envs/JupyterSystemEnv/lib/python3.7/site-packages (from jsonpath-ng<2.0.0,>=1.5.3->awswrangler) (5.1.1)\n",
      "Requirement already satisfied: six in /home/ec2-user/anaconda3/envs/JupyterSystemEnv/lib/python3.7/site-packages (from jsonpath-ng<2.0.0,>=1.5.3->awswrangler) (1.16.0)\n",
      "Requirement already satisfied: ply in /home/ec2-user/anaconda3/envs/JupyterSystemEnv/lib/python3.7/site-packages (from jsonpath-ng<2.0.0,>=1.5.3->awswrangler) (3.11)\n",
      "Requirement already satisfied: et-xmlfile in /home/ec2-user/anaconda3/envs/JupyterSystemEnv/lib/python3.7/site-packages (from openpyxl<3.1.0,>=3.0.0->awswrangler) (1.1.0)\n",
      "Requirement already satisfied: certifi>=2022.12.07 in /home/ec2-user/anaconda3/envs/JupyterSystemEnv/lib/python3.7/site-packages (from opensearch-py<3,>=1->awswrangler) (2022.12.7)\n",
      "Requirement already satisfied: requests<3.0.0,>=2.4.0 in /home/ec2-user/anaconda3/envs/JupyterSystemEnv/lib/python3.7/site-packages (from opensearch-py<3,>=1->awswrangler) (2.28.2)\n",
      "Requirement already satisfied: pytz>=2017.3 in /home/ec2-user/anaconda3/envs/JupyterSystemEnv/lib/python3.7/site-packages (from pandas!=1.5.0,<2.0.0,<=1.5.1,>=1.2.0->awswrangler) (2022.7.1)\n",
      "Requirement already satisfied: importlib-metadata>=1.0 in /home/ec2-user/anaconda3/envs/JupyterSystemEnv/lib/python3.7/site-packages (from pg8000<2.0.0,>=1.20.0->awswrangler) (4.11.4)\n",
      "Requirement already satisfied: scramp>=1.4.3 in /home/ec2-user/anaconda3/envs/JupyterSystemEnv/lib/python3.7/site-packages (from pg8000<2.0.0,>=1.20.0->awswrangler) (1.4.4)\n",
      "Requirement already satisfied: python-utils>=3.0.0 in /home/ec2-user/anaconda3/envs/JupyterSystemEnv/lib/python3.7/site-packages (from progressbar2<5.0.0,>=4.0.0->awswrangler) (3.5.2)\n",
      "Requirement already satisfied: packaging in /home/ec2-user/anaconda3/envs/JupyterSystemEnv/lib/python3.7/site-packages (from redshift-connector<2.1.0,>=2.0.889->awswrangler) (23.0)\n",
      "Requirement already satisfied: setuptools in /home/ec2-user/anaconda3/envs/JupyterSystemEnv/lib/python3.7/site-packages (from redshift-connector<2.1.0,>=2.0.889->awswrangler) (67.3.1)\n",
      "Requirement already satisfied: beautifulsoup4<5.0.0,>=4.7.0 in /home/ec2-user/anaconda3/envs/JupyterSystemEnv/lib/python3.7/site-packages (from redshift-connector<2.1.0,>=2.0.889->awswrangler) (4.11.2)\n",
      "Requirement already satisfied: lxml>=4.6.5 in /home/ec2-user/anaconda3/envs/JupyterSystemEnv/lib/python3.7/site-packages (from redshift-connector<2.1.0,>=2.0.889->awswrangler) (4.9.2)\n",
      "Requirement already satisfied: typing-extensions>=3.7.4 in /home/ec2-user/anaconda3/envs/JupyterSystemEnv/lib/python3.7/site-packages (from aiohttp<=3.8.1,>=3.8.0->gremlinpython<4.0.0,>=3.5.2->awswrangler) (4.4.0)\n",
      "Requirement already satisfied: charset-normalizer<3.0,>=2.0 in /home/ec2-user/anaconda3/envs/JupyterSystemEnv/lib/python3.7/site-packages (from aiohttp<=3.8.1,>=3.8.0->gremlinpython<4.0.0,>=3.5.2->awswrangler) (2.1.1)\n",
      "Requirement already satisfied: yarl<2.0,>=1.0 in /home/ec2-user/anaconda3/envs/JupyterSystemEnv/lib/python3.7/site-packages (from aiohttp<=3.8.1,>=3.8.0->gremlinpython<4.0.0,>=3.5.2->awswrangler) (1.7.2)\n",
      "Requirement already satisfied: multidict<7.0,>=4.5 in /home/ec2-user/anaconda3/envs/JupyterSystemEnv/lib/python3.7/site-packages (from aiohttp<=3.8.1,>=3.8.0->gremlinpython<4.0.0,>=3.5.2->awswrangler) (5.1.0)\n",
      "Requirement already satisfied: frozenlist>=1.1.1 in /home/ec2-user/anaconda3/envs/JupyterSystemEnv/lib/python3.7/site-packages (from aiohttp<=3.8.1,>=3.8.0->gremlinpython<4.0.0,>=3.5.2->awswrangler) (1.3.3)\n",
      "Requirement already satisfied: async-timeout<5.0,>=4.0.0a3 in /home/ec2-user/anaconda3/envs/JupyterSystemEnv/lib/python3.7/site-packages (from aiohttp<=3.8.1,>=3.8.0->gremlinpython<4.0.0,>=3.5.2->awswrangler) (4.0.2)\n",
      "Requirement already satisfied: asynctest==0.13.0 in /home/ec2-user/anaconda3/envs/JupyterSystemEnv/lib/python3.7/site-packages (from aiohttp<=3.8.1,>=3.8.0->gremlinpython<4.0.0,>=3.5.2->awswrangler) (0.13.0)\n",
      "Requirement already satisfied: aiosignal>=1.1.2 in /home/ec2-user/anaconda3/envs/JupyterSystemEnv/lib/python3.7/site-packages (from aiohttp<=3.8.1,>=3.8.0->gremlinpython<4.0.0,>=3.5.2->awswrangler) (1.3.1)\n",
      "Requirement already satisfied: attrs>=17.3.0 in /home/ec2-user/anaconda3/envs/JupyterSystemEnv/lib/python3.7/site-packages (from aiohttp<=3.8.1,>=3.8.0->gremlinpython<4.0.0,>=3.5.2->awswrangler) (22.2.0)\n",
      "Requirement already satisfied: soupsieve>1.2 in /home/ec2-user/anaconda3/envs/JupyterSystemEnv/lib/python3.7/site-packages (from beautifulsoup4<5.0.0,>=4.7.0->redshift-connector<2.1.0,>=2.0.889->awswrangler) (2.3.2.post1)\n",
      "Requirement already satisfied: zipp>=0.5 in /home/ec2-user/anaconda3/envs/JupyterSystemEnv/lib/python3.7/site-packages (from importlib-metadata>=1.0->pg8000<2.0.0,>=1.20.0->awswrangler) (3.13.0)\n",
      "Requirement already satisfied: idna<4,>=2.5 in /home/ec2-user/anaconda3/envs/JupyterSystemEnv/lib/python3.7/site-packages (from requests<3.0.0,>=2.4.0->opensearch-py<3,>=1->awswrangler) (3.4)\n",
      "Requirement already satisfied: asn1crypto>=1.5.1 in /home/ec2-user/anaconda3/envs/JupyterSystemEnv/lib/python3.7/site-packages (from scramp>=1.4.3->pg8000<2.0.0,>=1.20.0->awswrangler) (1.5.1)\n",
      "Note: you may need to restart the kernel to use updated packages.\n"
     ]
    }
   ],
   "source": [
    "%pip install awswrangler"
   ]
  },
  {
   "cell_type": "code",
   "execution_count": 43,
   "id": "9a5625f3",
   "metadata": {},
   "outputs": [],
   "source": [
    "from rdkit import Chem\n",
    "import pandas as pd\n",
    "import awswrangler as wr"
   ]
  },
  {
   "cell_type": "markdown",
   "id": "24e2d68d",
   "metadata": {},
   "source": [
    "**Graph Data Model**"
   ]
  },
  {
   "cell_type": "markdown",
   "id": "536a3491",
   "metadata": {},
   "source": [
    "There are a few different options for graph query languages and their associated data models when working with Neptune; in this case we’re using Apache TinkerPop’s Gremlin. We are opting for Gremlin here due to its intuitive nature and easy to learn syntax. The below cell is defining a dictionary object for both the nodes and edges of our graph. Within each dictionary object is a set of properties we will gather from our caffeine molecule in the next section."
   ]
  },
  {
   "cell_type": "code",
   "execution_count": 44,
   "id": "8a8cd157",
   "metadata": {},
   "outputs": [],
   "source": [
    "nodes_dict = {'~id':[],\n",
    "                '~label':[],\n",
    "                'idx':[],\n",
    "                'atomicNumber':[],\n",
    "                'isAromatic': []\n",
    "               }\n",
    "               \n",
    "edges_dict = {'~id':[],\n",
    "                '~label':[],\n",
    "                '~from':[],\n",
    "                '~to':[],\n",
    "               }"
   ]
  },
  {
   "cell_type": "markdown",
   "id": "d049b9e6",
   "metadata": {},
   "source": [
    "**RDKit Processing**"
   ]
  },
  {
   "cell_type": "markdown",
   "id": "21846f4c",
   "metadata": {},
   "source": [
    "This section is where the chemical computing magic happens. We use the RDKit package installed earlier in the graph notebook to decompose our chemical structure into lists of nodes (atoms) and edges (bonds)."
   ]
  },
  {
   "cell_type": "markdown",
   "id": "c69d0e0d",
   "metadata": {},
   "source": [
    "First, we want to declare our SMILES string for the caffeine molecule as a variable."
   ]
  },
  {
   "cell_type": "code",
   "execution_count": 30,
   "id": "33a9fdf0",
   "metadata": {},
   "outputs": [],
   "source": [
    "caffeine_smiles = 'CN1C=NC2=C1C(=O)N(C(=O)N2C)C'"
   ]
  },
  {
   "cell_type": "markdown",
   "id": "cacd427b",
   "metadata": {},
   "source": [
    "Next, to obtain a molecule-type object from the RDKit package, we need to use the below call to the \"Chem\" library from RDKit imported earlier."
   ]
  },
  {
   "cell_type": "code",
   "execution_count": 31,
   "id": "208de8b7",
   "metadata": {},
   "outputs": [],
   "source": [
    "mol = Chem.MolFromSmiles(caffeine_smiles)"
   ]
  },
  {
   "cell_type": "markdown",
   "id": "45119037",
   "metadata": {},
   "source": [
    "Let’s see a visual of our work so far, run the following cell to output a 2D picture of our molecule below."
   ]
  },
  {
   "cell_type": "code",
   "execution_count": 45,
   "id": "7260f5c8",
   "metadata": {},
   "outputs": [
    {
     "data": {
      "image/png": "[encoded data removed]",
      "text/plain": [
       "<rdkit.Chem.rdchem.Mol at 0x7fe40c330210>"
      ]
     },
     "execution_count": 45,
     "metadata": {},
     "output_type": "execute_result"
    }
   ],
   "source": [
    "mol"
   ]
  },
  {
   "cell_type": "markdown",
   "id": "b1932568",
   "metadata": {},
   "source": [
    "To recap what we just did, first we declared our SMILES string for caffeine as the variable caffeine_smiles. Next, we used the Chem.MolFromSmiles function from RDKit to turn the SMILES into a Mol type object defined by RDKit. Finally, we returned the Mol type object which resulted in a 2D image of the molecular structure for caffeine that we are working with."
   ]
  },
  {
   "cell_type": "markdown",
   "id": "0cbd5ec2",
   "metadata": {},
   "source": [
    "Now we need to iterate through each atom and bond within the mol object outputted from RDKit. While iterating through each atom and bond, we use the graph data model we declared earlier, storing properties of each inside the data model. Feel free to dive deeper into the mol.GetAtoms() and mol.GetBonds() function calls on your own - we are only exploring a small subet of their functionality."
   ]
  },
  {
   "cell_type": "code",
   "execution_count": 33,
   "id": "d3b030e4",
   "metadata": {},
   "outputs": [],
   "source": [
    "for atom in mol.GetAtoms():\n",
    "    nodes_dict['~id'].append('Node-'+ caffeine_smiles + str(atom.GetIdx()))\n",
    "    nodes_dict['~label'].append(atom.GetSymbol())\n",
    "    nodes_dict['idx'].append(atom.GetIdx())\n",
    "    nodes_dict['atomicNumber'].append(atom.GetAtomicNum())\n",
    "    nodes_dict['isAromatic'].append(atom.GetIsAromatic())\n",
    "\n",
    "for bond in mol.GetBonds():\n",
    "    edges_dict['~id'].append('edge-'+ caffeine_smiles + str(bond.GetBeginAtomIdx()) + str(bond.GetEndAtomIdx()))\n",
    "    edges_dict['~label'].append(str(bond.GetBondType()))\n",
    "    edges_dict['~from'].append('Node-' + caffeine_smiles + str(bond.GetBeginAtomIdx()))\n",
    "    edges_dict['~to'].append('Node-' + caffeine_smiles + str(bond.GetEndAtomIdx()))"
   ]
  },
  {
   "cell_type": "markdown",
   "id": "09038090",
   "metadata": {},
   "source": [
    "Several different RDKit functions are in this portion of code, so let’s break it down piece by piece: "
   ]
  },
  {
   "cell_type": "markdown",
   "id": "caeeaeb3",
   "metadata": {},
   "source": [
    "•\tFor the ~id field of both nodes and edges, we combine the data type Node or Edge, the SMILES string itself, and the unique index for the atom"
   ]
  },
  {
   "cell_type": "markdown",
   "id": "2e8287cf",
   "metadata": {},
   "source": [
    "•\tFor the ~label field, we use the chemical symbol for nodes, and the bond type for the edges"
   ]
  },
  {
   "cell_type": "markdown",
   "id": "19bf0671",
   "metadata": {},
   "source": [
    "•\tThe fields ~from and ~to for the edges (bonds) are constructed by combining the prefix Node- with the SMILES string, and the respective beginning and ending atoms that the bond connects"
   ]
  },
  {
   "cell_type": "markdown",
   "id": "0da3d8f8",
   "metadata": {},
   "source": [
    "•\tThe additional fields for the nodes (atoms) in the graph model are the atom’s unique ID within the molecule, its atomic number, and if it is aromatic or not"
   ]
  },
  {
   "cell_type": "markdown",
   "id": "3ccc7a32",
   "metadata": {},
   "source": [
    "Note that you can extract several atomic properties for a given SMILES string in RDKit and add them as additional fields for a given atom or bond. We don’t list them all in this post, but you can explore additional fields for both the atoms and bonds."
   ]
  },
  {
   "cell_type": "markdown",
   "id": "bcbf50b9",
   "metadata": {},
   "source": [
    "Finally, we want to use pandas to transform our data-poulated dictionaries into pandas data frames"
   ]
  },
  {
   "cell_type": "code",
   "execution_count": 34,
   "id": "ab3a8fa7",
   "metadata": {},
   "outputs": [],
   "source": [
    "nodes_df = pd.DataFrame.from_dict(nodes_dict)\n",
    "edges_df = pd.DataFrame.from_dict(edges_dict)"
   ]
  },
  {
   "cell_type": "markdown",
   "id": "35572287",
   "metadata": {},
   "source": [
    "lets check the results of our work so far. Running the cells below should return data frames for both the edges and nodes of our caffeine molecule."
   ]
  },
  {
   "cell_type": "code",
   "execution_count": 35,
   "id": "7f8df5de",
   "metadata": {},
   "outputs": [
    {
     "data": {
      "text/html": [
       "<div>\n",
       "<style scoped>\n",
       "    .dataframe tbody tr th:only-of-type {\n",
       "        vertical-align: middle;\n",
       "    }\n",
       "\n",
       "    .dataframe tbody tr th {\n",
       "        vertical-align: top;\n",
       "    }\n",
       "\n",
       "    .dataframe thead th {\n",
       "        text-align: right;\n",
       "    }\n",
       "</style>\n",
       "<table border=\"1\" class=\"dataframe\">\n",
       "  <thead>\n",
       "    <tr style=\"text-align: right;\">\n",
       "      <th></th>\n",
       "      <th>~id</th>\n",
       "      <th>~label</th>\n",
       "      <th>~from</th>\n",
       "      <th>~to</th>\n",
       "    </tr>\n",
       "  </thead>\n",
       "  <tbody>\n",
       "    <tr>\n",
       "      <th>0</th>\n",
       "      <td>edge-CN1C=NC2=C1C(=O)N(C(=O)N2C)C01</td>\n",
       "      <td>SINGLE</td>\n",
       "      <td>Node-CN1C=NC2=C1C(=O)N(C(=O)N2C)C0</td>\n",
       "      <td>Node-CN1C=NC2=C1C(=O)N(C(=O)N2C)C1</td>\n",
       "    </tr>\n",
       "    <tr>\n",
       "      <th>1</th>\n",
       "      <td>edge-CN1C=NC2=C1C(=O)N(C(=O)N2C)C12</td>\n",
       "      <td>AROMATIC</td>\n",
       "      <td>Node-CN1C=NC2=C1C(=O)N(C(=O)N2C)C1</td>\n",
       "      <td>Node-CN1C=NC2=C1C(=O)N(C(=O)N2C)C2</td>\n",
       "    </tr>\n",
       "    <tr>\n",
       "      <th>2</th>\n",
       "      <td>edge-CN1C=NC2=C1C(=O)N(C(=O)N2C)C23</td>\n",
       "      <td>AROMATIC</td>\n",
       "      <td>Node-CN1C=NC2=C1C(=O)N(C(=O)N2C)C2</td>\n",
       "      <td>Node-CN1C=NC2=C1C(=O)N(C(=O)N2C)C3</td>\n",
       "    </tr>\n",
       "    <tr>\n",
       "      <th>3</th>\n",
       "      <td>edge-CN1C=NC2=C1C(=O)N(C(=O)N2C)C34</td>\n",
       "      <td>AROMATIC</td>\n",
       "      <td>Node-CN1C=NC2=C1C(=O)N(C(=O)N2C)C3</td>\n",
       "      <td>Node-CN1C=NC2=C1C(=O)N(C(=O)N2C)C4</td>\n",
       "    </tr>\n",
       "    <tr>\n",
       "      <th>4</th>\n",
       "      <td>edge-CN1C=NC2=C1C(=O)N(C(=O)N2C)C45</td>\n",
       "      <td>AROMATIC</td>\n",
       "      <td>Node-CN1C=NC2=C1C(=O)N(C(=O)N2C)C4</td>\n",
       "      <td>Node-CN1C=NC2=C1C(=O)N(C(=O)N2C)C5</td>\n",
       "    </tr>\n",
       "    <tr>\n",
       "      <th>5</th>\n",
       "      <td>edge-CN1C=NC2=C1C(=O)N(C(=O)N2C)C56</td>\n",
       "      <td>AROMATIC</td>\n",
       "      <td>Node-CN1C=NC2=C1C(=O)N(C(=O)N2C)C5</td>\n",
       "      <td>Node-CN1C=NC2=C1C(=O)N(C(=O)N2C)C6</td>\n",
       "    </tr>\n",
       "    <tr>\n",
       "      <th>6</th>\n",
       "      <td>edge-CN1C=NC2=C1C(=O)N(C(=O)N2C)C67</td>\n",
       "      <td>DOUBLE</td>\n",
       "      <td>Node-CN1C=NC2=C1C(=O)N(C(=O)N2C)C6</td>\n",
       "      <td>Node-CN1C=NC2=C1C(=O)N(C(=O)N2C)C7</td>\n",
       "    </tr>\n",
       "    <tr>\n",
       "      <th>7</th>\n",
       "      <td>edge-CN1C=NC2=C1C(=O)N(C(=O)N2C)C68</td>\n",
       "      <td>AROMATIC</td>\n",
       "      <td>Node-CN1C=NC2=C1C(=O)N(C(=O)N2C)C6</td>\n",
       "      <td>Node-CN1C=NC2=C1C(=O)N(C(=O)N2C)C8</td>\n",
       "    </tr>\n",
       "    <tr>\n",
       "      <th>8</th>\n",
       "      <td>edge-CN1C=NC2=C1C(=O)N(C(=O)N2C)C89</td>\n",
       "      <td>AROMATIC</td>\n",
       "      <td>Node-CN1C=NC2=C1C(=O)N(C(=O)N2C)C8</td>\n",
       "      <td>Node-CN1C=NC2=C1C(=O)N(C(=O)N2C)C9</td>\n",
       "    </tr>\n",
       "    <tr>\n",
       "      <th>9</th>\n",
       "      <td>edge-CN1C=NC2=C1C(=O)N(C(=O)N2C)C910</td>\n",
       "      <td>DOUBLE</td>\n",
       "      <td>Node-CN1C=NC2=C1C(=O)N(C(=O)N2C)C9</td>\n",
       "      <td>Node-CN1C=NC2=C1C(=O)N(C(=O)N2C)C10</td>\n",
       "    </tr>\n",
       "    <tr>\n",
       "      <th>10</th>\n",
       "      <td>edge-CN1C=NC2=C1C(=O)N(C(=O)N2C)C911</td>\n",
       "      <td>AROMATIC</td>\n",
       "      <td>Node-CN1C=NC2=C1C(=O)N(C(=O)N2C)C9</td>\n",
       "      <td>Node-CN1C=NC2=C1C(=O)N(C(=O)N2C)C11</td>\n",
       "    </tr>\n",
       "    <tr>\n",
       "      <th>11</th>\n",
       "      <td>edge-CN1C=NC2=C1C(=O)N(C(=O)N2C)C1112</td>\n",
       "      <td>SINGLE</td>\n",
       "      <td>Node-CN1C=NC2=C1C(=O)N(C(=O)N2C)C11</td>\n",
       "      <td>Node-CN1C=NC2=C1C(=O)N(C(=O)N2C)C12</td>\n",
       "    </tr>\n",
       "    <tr>\n",
       "      <th>12</th>\n",
       "      <td>edge-CN1C=NC2=C1C(=O)N(C(=O)N2C)C813</td>\n",
       "      <td>SINGLE</td>\n",
       "      <td>Node-CN1C=NC2=C1C(=O)N(C(=O)N2C)C8</td>\n",
       "      <td>Node-CN1C=NC2=C1C(=O)N(C(=O)N2C)C13</td>\n",
       "    </tr>\n",
       "    <tr>\n",
       "      <th>13</th>\n",
       "      <td>edge-CN1C=NC2=C1C(=O)N(C(=O)N2C)C51</td>\n",
       "      <td>AROMATIC</td>\n",
       "      <td>Node-CN1C=NC2=C1C(=O)N(C(=O)N2C)C5</td>\n",
       "      <td>Node-CN1C=NC2=C1C(=O)N(C(=O)N2C)C1</td>\n",
       "    </tr>\n",
       "    <tr>\n",
       "      <th>14</th>\n",
       "      <td>edge-CN1C=NC2=C1C(=O)N(C(=O)N2C)C114</td>\n",
       "      <td>AROMATIC</td>\n",
       "      <td>Node-CN1C=NC2=C1C(=O)N(C(=O)N2C)C11</td>\n",
       "      <td>Node-CN1C=NC2=C1C(=O)N(C(=O)N2C)C4</td>\n",
       "    </tr>\n",
       "  </tbody>\n",
       "</table>\n",
       "</div>"
      ],
      "text/plain": [
       "                                      ~id    ~label  \\\n",
       "0     edge-CN1C=NC2=C1C(=O)N(C(=O)N2C)C01    SINGLE   \n",
       "1     edge-CN1C=NC2=C1C(=O)N(C(=O)N2C)C12  AROMATIC   \n",
       "2     edge-CN1C=NC2=C1C(=O)N(C(=O)N2C)C23  AROMATIC   \n",
       "3     edge-CN1C=NC2=C1C(=O)N(C(=O)N2C)C34  AROMATIC   \n",
       "4     edge-CN1C=NC2=C1C(=O)N(C(=O)N2C)C45  AROMATIC   \n",
       "5     edge-CN1C=NC2=C1C(=O)N(C(=O)N2C)C56  AROMATIC   \n",
       "6     edge-CN1C=NC2=C1C(=O)N(C(=O)N2C)C67    DOUBLE   \n",
       "7     edge-CN1C=NC2=C1C(=O)N(C(=O)N2C)C68  AROMATIC   \n",
       "8     edge-CN1C=NC2=C1C(=O)N(C(=O)N2C)C89  AROMATIC   \n",
       "9    edge-CN1C=NC2=C1C(=O)N(C(=O)N2C)C910    DOUBLE   \n",
       "10   edge-CN1C=NC2=C1C(=O)N(C(=O)N2C)C911  AROMATIC   \n",
       "11  edge-CN1C=NC2=C1C(=O)N(C(=O)N2C)C1112    SINGLE   \n",
       "12   edge-CN1C=NC2=C1C(=O)N(C(=O)N2C)C813    SINGLE   \n",
       "13    edge-CN1C=NC2=C1C(=O)N(C(=O)N2C)C51  AROMATIC   \n",
       "14   edge-CN1C=NC2=C1C(=O)N(C(=O)N2C)C114  AROMATIC   \n",
       "\n",
       "                                  ~from                                  ~to  \n",
       "0    Node-CN1C=NC2=C1C(=O)N(C(=O)N2C)C0   Node-CN1C=NC2=C1C(=O)N(C(=O)N2C)C1  \n",
       "1    Node-CN1C=NC2=C1C(=O)N(C(=O)N2C)C1   Node-CN1C=NC2=C1C(=O)N(C(=O)N2C)C2  \n",
       "2    Node-CN1C=NC2=C1C(=O)N(C(=O)N2C)C2   Node-CN1C=NC2=C1C(=O)N(C(=O)N2C)C3  \n",
       "3    Node-CN1C=NC2=C1C(=O)N(C(=O)N2C)C3   Node-CN1C=NC2=C1C(=O)N(C(=O)N2C)C4  \n",
       "4    Node-CN1C=NC2=C1C(=O)N(C(=O)N2C)C4   Node-CN1C=NC2=C1C(=O)N(C(=O)N2C)C5  \n",
       "5    Node-CN1C=NC2=C1C(=O)N(C(=O)N2C)C5   Node-CN1C=NC2=C1C(=O)N(C(=O)N2C)C6  \n",
       "6    Node-CN1C=NC2=C1C(=O)N(C(=O)N2C)C6   Node-CN1C=NC2=C1C(=O)N(C(=O)N2C)C7  \n",
       "7    Node-CN1C=NC2=C1C(=O)N(C(=O)N2C)C6   Node-CN1C=NC2=C1C(=O)N(C(=O)N2C)C8  \n",
       "8    Node-CN1C=NC2=C1C(=O)N(C(=O)N2C)C8   Node-CN1C=NC2=C1C(=O)N(C(=O)N2C)C9  \n",
       "9    Node-CN1C=NC2=C1C(=O)N(C(=O)N2C)C9  Node-CN1C=NC2=C1C(=O)N(C(=O)N2C)C10  \n",
       "10   Node-CN1C=NC2=C1C(=O)N(C(=O)N2C)C9  Node-CN1C=NC2=C1C(=O)N(C(=O)N2C)C11  \n",
       "11  Node-CN1C=NC2=C1C(=O)N(C(=O)N2C)C11  Node-CN1C=NC2=C1C(=O)N(C(=O)N2C)C12  \n",
       "12   Node-CN1C=NC2=C1C(=O)N(C(=O)N2C)C8  Node-CN1C=NC2=C1C(=O)N(C(=O)N2C)C13  \n",
       "13   Node-CN1C=NC2=C1C(=O)N(C(=O)N2C)C5   Node-CN1C=NC2=C1C(=O)N(C(=O)N2C)C1  \n",
       "14  Node-CN1C=NC2=C1C(=O)N(C(=O)N2C)C11   Node-CN1C=NC2=C1C(=O)N(C(=O)N2C)C4  "
      ]
     },
     "execution_count": 35,
     "metadata": {},
     "output_type": "execute_result"
    }
   ],
   "source": [
    "edges_df"
   ]
  },
  {
   "cell_type": "code",
   "execution_count": 46,
   "id": "1096a312",
   "metadata": {},
   "outputs": [
    {
     "data": {
      "text/html": [
       "<div>\n",
       "<style scoped>\n",
       "    .dataframe tbody tr th:only-of-type {\n",
       "        vertical-align: middle;\n",
       "    }\n",
       "\n",
       "    .dataframe tbody tr th {\n",
       "        vertical-align: top;\n",
       "    }\n",
       "\n",
       "    .dataframe thead th {\n",
       "        text-align: right;\n",
       "    }\n",
       "</style>\n",
       "<table border=\"1\" class=\"dataframe\">\n",
       "  <thead>\n",
       "    <tr style=\"text-align: right;\">\n",
       "      <th></th>\n",
       "      <th>~id</th>\n",
       "      <th>~label</th>\n",
       "      <th>idx</th>\n",
       "      <th>atomicNumber</th>\n",
       "      <th>isAromatic</th>\n",
       "    </tr>\n",
       "  </thead>\n",
       "  <tbody>\n",
       "    <tr>\n",
       "      <th>0</th>\n",
       "      <td>Node-CN1C=NC2=C1C(=O)N(C(=O)N2C)C0</td>\n",
       "      <td>C</td>\n",
       "      <td>0</td>\n",
       "      <td>6</td>\n",
       "      <td>False</td>\n",
       "    </tr>\n",
       "    <tr>\n",
       "      <th>1</th>\n",
       "      <td>Node-CN1C=NC2=C1C(=O)N(C(=O)N2C)C1</td>\n",
       "      <td>N</td>\n",
       "      <td>1</td>\n",
       "      <td>7</td>\n",
       "      <td>True</td>\n",
       "    </tr>\n",
       "    <tr>\n",
       "      <th>2</th>\n",
       "      <td>Node-CN1C=NC2=C1C(=O)N(C(=O)N2C)C2</td>\n",
       "      <td>C</td>\n",
       "      <td>2</td>\n",
       "      <td>6</td>\n",
       "      <td>True</td>\n",
       "    </tr>\n",
       "    <tr>\n",
       "      <th>3</th>\n",
       "      <td>Node-CN1C=NC2=C1C(=O)N(C(=O)N2C)C3</td>\n",
       "      <td>N</td>\n",
       "      <td>3</td>\n",
       "      <td>7</td>\n",
       "      <td>True</td>\n",
       "    </tr>\n",
       "    <tr>\n",
       "      <th>4</th>\n",
       "      <td>Node-CN1C=NC2=C1C(=O)N(C(=O)N2C)C4</td>\n",
       "      <td>C</td>\n",
       "      <td>4</td>\n",
       "      <td>6</td>\n",
       "      <td>True</td>\n",
       "    </tr>\n",
       "    <tr>\n",
       "      <th>5</th>\n",
       "      <td>Node-CN1C=NC2=C1C(=O)N(C(=O)N2C)C5</td>\n",
       "      <td>C</td>\n",
       "      <td>5</td>\n",
       "      <td>6</td>\n",
       "      <td>True</td>\n",
       "    </tr>\n",
       "    <tr>\n",
       "      <th>6</th>\n",
       "      <td>Node-CN1C=NC2=C1C(=O)N(C(=O)N2C)C6</td>\n",
       "      <td>C</td>\n",
       "      <td>6</td>\n",
       "      <td>6</td>\n",
       "      <td>True</td>\n",
       "    </tr>\n",
       "    <tr>\n",
       "      <th>7</th>\n",
       "      <td>Node-CN1C=NC2=C1C(=O)N(C(=O)N2C)C7</td>\n",
       "      <td>O</td>\n",
       "      <td>7</td>\n",
       "      <td>8</td>\n",
       "      <td>False</td>\n",
       "    </tr>\n",
       "    <tr>\n",
       "      <th>8</th>\n",
       "      <td>Node-CN1C=NC2=C1C(=O)N(C(=O)N2C)C8</td>\n",
       "      <td>N</td>\n",
       "      <td>8</td>\n",
       "      <td>7</td>\n",
       "      <td>True</td>\n",
       "    </tr>\n",
       "    <tr>\n",
       "      <th>9</th>\n",
       "      <td>Node-CN1C=NC2=C1C(=O)N(C(=O)N2C)C9</td>\n",
       "      <td>C</td>\n",
       "      <td>9</td>\n",
       "      <td>6</td>\n",
       "      <td>True</td>\n",
       "    </tr>\n",
       "    <tr>\n",
       "      <th>10</th>\n",
       "      <td>Node-CN1C=NC2=C1C(=O)N(C(=O)N2C)C10</td>\n",
       "      <td>O</td>\n",
       "      <td>10</td>\n",
       "      <td>8</td>\n",
       "      <td>False</td>\n",
       "    </tr>\n",
       "    <tr>\n",
       "      <th>11</th>\n",
       "      <td>Node-CN1C=NC2=C1C(=O)N(C(=O)N2C)C11</td>\n",
       "      <td>N</td>\n",
       "      <td>11</td>\n",
       "      <td>7</td>\n",
       "      <td>True</td>\n",
       "    </tr>\n",
       "    <tr>\n",
       "      <th>12</th>\n",
       "      <td>Node-CN1C=NC2=C1C(=O)N(C(=O)N2C)C12</td>\n",
       "      <td>C</td>\n",
       "      <td>12</td>\n",
       "      <td>6</td>\n",
       "      <td>False</td>\n",
       "    </tr>\n",
       "    <tr>\n",
       "      <th>13</th>\n",
       "      <td>Node-CN1C=NC2=C1C(=O)N(C(=O)N2C)C13</td>\n",
       "      <td>C</td>\n",
       "      <td>13</td>\n",
       "      <td>6</td>\n",
       "      <td>False</td>\n",
       "    </tr>\n",
       "  </tbody>\n",
       "</table>\n",
       "</div>"
      ],
      "text/plain": [
       "                                    ~id ~label  idx  atomicNumber  isAromatic\n",
       "0    Node-CN1C=NC2=C1C(=O)N(C(=O)N2C)C0      C    0             6       False\n",
       "1    Node-CN1C=NC2=C1C(=O)N(C(=O)N2C)C1      N    1             7        True\n",
       "2    Node-CN1C=NC2=C1C(=O)N(C(=O)N2C)C2      C    2             6        True\n",
       "3    Node-CN1C=NC2=C1C(=O)N(C(=O)N2C)C3      N    3             7        True\n",
       "4    Node-CN1C=NC2=C1C(=O)N(C(=O)N2C)C4      C    4             6        True\n",
       "5    Node-CN1C=NC2=C1C(=O)N(C(=O)N2C)C5      C    5             6        True\n",
       "6    Node-CN1C=NC2=C1C(=O)N(C(=O)N2C)C6      C    6             6        True\n",
       "7    Node-CN1C=NC2=C1C(=O)N(C(=O)N2C)C7      O    7             8       False\n",
       "8    Node-CN1C=NC2=C1C(=O)N(C(=O)N2C)C8      N    8             7        True\n",
       "9    Node-CN1C=NC2=C1C(=O)N(C(=O)N2C)C9      C    9             6        True\n",
       "10  Node-CN1C=NC2=C1C(=O)N(C(=O)N2C)C10      O   10             8       False\n",
       "11  Node-CN1C=NC2=C1C(=O)N(C(=O)N2C)C11      N   11             7        True\n",
       "12  Node-CN1C=NC2=C1C(=O)N(C(=O)N2C)C12      C   12             6       False\n",
       "13  Node-CN1C=NC2=C1C(=O)N(C(=O)N2C)C13      C   13             6       False"
      ]
     },
     "execution_count": 46,
     "metadata": {},
     "output_type": "execute_result"
    }
   ],
   "source": [
    "nodes_df"
   ]
  },
  {
   "cell_type": "markdown",
   "id": "da724549",
   "metadata": {},
   "source": [
    "**Amazon Neptune Data Upload**"
   ]
  },
  {
   "cell_type": "markdown",
   "id": "5ead358b",
   "metadata": {},
   "source": [
    "Now that we have successfully decomposed our caffeine SMILES string into individual atoms and bonds, the next step is to load our data into the Neptune database itself. This will be much simpler than loading data from an external source because our data is already inside the graph notebook environment. In order write our data to the Neptune database we will be using the AWS SDK for pandas, also known as awswrangler"
   ]
  },
  {
   "cell_type": "markdown",
   "id": "271ac986",
   "metadata": {},
   "source": [
    "First, we need to check our notebook configuration to gather the host endpoint for our cluster. Runnning the below cell will provide that information, along with a set of other important details about our Neptune database"
   ]
  },
  {
   "cell_type": "code",
   "execution_count": 47,
   "id": "61c779af",
   "metadata": {},
   "outputs": [
    {
     "name": "stdout",
     "output_type": "stream",
     "text": [
      "{\n",
      "  \"host\": \"neptuneblogmolecularmodeling.cluster-ccxzwdofypk5.us-east-1.neptune.amazonaws.com\",\n",
      "  \"port\": 8182,\n",
      "  \"proxy_host\": \"\",\n",
      "  \"proxy_port\": 8182,\n",
      "  \"auth_mode\": \"DEFAULT\",\n",
      "  \"load_from_s3_arn\": \"\",\n",
      "  \"ssl\": true,\n",
      "  \"ssl_verify\": true,\n",
      "  \"aws_region\": \"us-east-1\",\n",
      "  \"sparql\": {\n",
      "    \"path\": \"sparql\"\n",
      "  },\n",
      "  \"gremlin\": {\n",
      "    \"traversal_source\": \"g\",\n",
      "    \"username\": \"\",\n",
      "    \"password\": \"\",\n",
      "    \"message_serializer\": \"graphsonv3\"\n",
      "  },\n",
      "  \"neo4j\": {\n",
      "    \"username\": \"neo4j\",\n",
      "    \"password\": \"password\",\n",
      "    \"auth\": true,\n",
      "    \"database\": null\n",
      "  }\n",
      "}\n"
     ]
    },
    {
     "data": {
      "text/plain": [
       "<graph_notebook.configuration.generate_config.Configuration at 0x7fe41717b4d0>"
      ]
     },
     "execution_count": 47,
     "metadata": {},
     "output_type": "execute_result"
    }
   ],
   "source": [
    "%graph_notebook_config"
   ]
  },
  {
   "cell_type": "markdown",
   "id": "66745fed",
   "metadata": {},
   "source": [
    "Find the **host** field from the above output and copy & paste the string into the below cell where it says **'[INSERT YOUR HOST HERE]'**. Also, check the port number above, ensure that the port number above is the same as the second parameter in the cell below. The default port number should be 8182."
   ]
  },
  {
   "cell_type": "markdown",
   "id": "7343a1e7",
   "metadata": {},
   "source": [
    "Run cell below once the host & port is properly copied from your graph configuration output above. This cell is simply using a command from the neptune section of the awswrangler library to establish a connection to your neptune instance."
   ]
  },
  {
   "cell_type": "code",
   "execution_count": 39,
   "id": "9b5da429",
   "metadata": {},
   "outputs": [],
   "source": [
    "client = wr.neptune.connect(\"INSERT YOUR HOST HERE\", 8182, iam_enabled=False)"
   ]
  },
  {
   "cell_type": "markdown",
   "id": "d26e71fd",
   "metadata": {},
   "source": [
    "The next two cells use the .to_proprty_graph functions within awswrangler to insert both the node & edge data frames we creates earlier into our neptune database. Both cells should return a \"True\" upon success."
   ]
  },
  {
   "cell_type": "code",
   "execution_count": 40,
   "id": "60f6dcf4",
   "metadata": {},
   "outputs": [
    {
     "data": {
      "text/plain": [
       "True"
      ]
     },
     "execution_count": 40,
     "metadata": {},
     "output_type": "execute_result"
    }
   ],
   "source": [
    "wr.neptune.to_property_graph(client, df=nodes_df)"
   ]
  },
  {
   "cell_type": "code",
   "execution_count": 41,
   "id": "e06f3138",
   "metadata": {},
   "outputs": [
    {
     "ename": "QueryFailed",
     "evalue": "499: {\"code\":\"ConstraintViolationException\",\"requestId\":\"a3125bf4-3c71-4a08-8fbb-1aebd0558410\",\"detailedMessage\":\"Edge with id already exists: \"}",
     "output_type": "error",
     "traceback": [
      "\u001b[0;31m---------------------------------------------------------------------------\u001b[0m",
      "\u001b[0;31mGremlinServerError\u001b[0m                        Traceback (most recent call last)",
      "\u001b[0;32m~/anaconda3/envs/JupyterSystemEnv/lib/python3.7/site-packages/awswrangler/neptune/client.py\u001b[0m in \u001b[0;36m_execute_gremlin\u001b[0;34m(self, query, headers)\u001b[0m\n\u001b[1;32m    189\u001b[0m             \u001b[0mfuture_results\u001b[0m \u001b[0;34m=\u001b[0m \u001b[0mresult\u001b[0m\u001b[0;34m.\u001b[0m\u001b[0mall\u001b[0m\u001b[0;34m(\u001b[0m\u001b[0;34m)\u001b[0m\u001b[0;34m\u001b[0m\u001b[0;34m\u001b[0m\u001b[0m\n\u001b[0;32m--> 190\u001b[0;31m             \u001b[0mresults\u001b[0m \u001b[0;34m=\u001b[0m \u001b[0mfuture_results\u001b[0m\u001b[0;34m.\u001b[0m\u001b[0mresult\u001b[0m\u001b[0;34m(\u001b[0m\u001b[0;34m)\u001b[0m\u001b[0;34m\u001b[0m\u001b[0;34m\u001b[0m\u001b[0m\n\u001b[0m\u001b[1;32m    191\u001b[0m             \u001b[0;32mreturn\u001b[0m \u001b[0mGremlinParser\u001b[0m\u001b[0;34m.\u001b[0m\u001b[0mgremlin_results_to_dict\u001b[0m\u001b[0;34m(\u001b[0m\u001b[0mresults\u001b[0m\u001b[0;34m)\u001b[0m\u001b[0;34m\u001b[0m\u001b[0;34m\u001b[0m\u001b[0m\n",
      "\u001b[0;32m~/anaconda3/envs/JupyterSystemEnv/lib/python3.7/concurrent/futures/_base.py\u001b[0m in \u001b[0;36mresult\u001b[0;34m(self, timeout)\u001b[0m\n\u001b[1;32m    434\u001b[0m             \u001b[0;32melif\u001b[0m \u001b[0mself\u001b[0m\u001b[0;34m.\u001b[0m\u001b[0m_state\u001b[0m \u001b[0;34m==\u001b[0m \u001b[0mFINISHED\u001b[0m\u001b[0;34m:\u001b[0m\u001b[0;34m\u001b[0m\u001b[0;34m\u001b[0m\u001b[0m\n\u001b[0;32m--> 435\u001b[0;31m                 \u001b[0;32mreturn\u001b[0m \u001b[0mself\u001b[0m\u001b[0;34m.\u001b[0m\u001b[0m__get_result\u001b[0m\u001b[0;34m(\u001b[0m\u001b[0;34m)\u001b[0m\u001b[0;34m\u001b[0m\u001b[0;34m\u001b[0m\u001b[0m\n\u001b[0m\u001b[1;32m    436\u001b[0m             \u001b[0;32melse\u001b[0m\u001b[0;34m:\u001b[0m\u001b[0;34m\u001b[0m\u001b[0;34m\u001b[0m\u001b[0m\n",
      "\u001b[0;32m~/anaconda3/envs/JupyterSystemEnv/lib/python3.7/concurrent/futures/_base.py\u001b[0m in \u001b[0;36m__get_result\u001b[0;34m(self)\u001b[0m\n\u001b[1;32m    383\u001b[0m         \u001b[0;32mif\u001b[0m \u001b[0mself\u001b[0m\u001b[0;34m.\u001b[0m\u001b[0m_exception\u001b[0m\u001b[0;34m:\u001b[0m\u001b[0;34m\u001b[0m\u001b[0;34m\u001b[0m\u001b[0m\n\u001b[0;32m--> 384\u001b[0;31m             \u001b[0;32mraise\u001b[0m \u001b[0mself\u001b[0m\u001b[0;34m.\u001b[0m\u001b[0m_exception\u001b[0m\u001b[0;34m\u001b[0m\u001b[0;34m\u001b[0m\u001b[0m\n\u001b[0m\u001b[1;32m    385\u001b[0m         \u001b[0;32melse\u001b[0m\u001b[0;34m:\u001b[0m\u001b[0;34m\u001b[0m\u001b[0;34m\u001b[0m\u001b[0m\n",
      "\u001b[0;32m~/anaconda3/envs/JupyterSystemEnv/lib/python3.7/site-packages/gremlin_python/driver/resultset.py\u001b[0m in \u001b[0;36mcb\u001b[0;34m(f)\u001b[0m\n\u001b[1;32m     89\u001b[0m             \u001b[0;32mtry\u001b[0m\u001b[0;34m:\u001b[0m\u001b[0;34m\u001b[0m\u001b[0;34m\u001b[0m\u001b[0m\n\u001b[0;32m---> 90\u001b[0;31m                 \u001b[0mf\u001b[0m\u001b[0;34m.\u001b[0m\u001b[0mresult\u001b[0m\u001b[0;34m(\u001b[0m\u001b[0;34m)\u001b[0m\u001b[0;34m\u001b[0m\u001b[0;34m\u001b[0m\u001b[0m\n\u001b[0m\u001b[1;32m     91\u001b[0m             \u001b[0;32mexcept\u001b[0m \u001b[0mException\u001b[0m \u001b[0;32mas\u001b[0m \u001b[0me\u001b[0m\u001b[0;34m:\u001b[0m\u001b[0;34m\u001b[0m\u001b[0;34m\u001b[0m\u001b[0m\n",
      "\u001b[0;32m~/anaconda3/envs/JupyterSystemEnv/lib/python3.7/concurrent/futures/_base.py\u001b[0m in \u001b[0;36mresult\u001b[0;34m(self, timeout)\u001b[0m\n\u001b[1;32m    427\u001b[0m             \u001b[0;32melif\u001b[0m \u001b[0mself\u001b[0m\u001b[0;34m.\u001b[0m\u001b[0m_state\u001b[0m \u001b[0;34m==\u001b[0m \u001b[0mFINISHED\u001b[0m\u001b[0;34m:\u001b[0m\u001b[0;34m\u001b[0m\u001b[0;34m\u001b[0m\u001b[0m\n\u001b[0;32m--> 428\u001b[0;31m                 \u001b[0;32mreturn\u001b[0m \u001b[0mself\u001b[0m\u001b[0;34m.\u001b[0m\u001b[0m__get_result\u001b[0m\u001b[0;34m(\u001b[0m\u001b[0;34m)\u001b[0m\u001b[0;34m\u001b[0m\u001b[0;34m\u001b[0m\u001b[0m\n\u001b[0m\u001b[1;32m    429\u001b[0m \u001b[0;34m\u001b[0m\u001b[0m\n",
      "\u001b[0;32m~/anaconda3/envs/JupyterSystemEnv/lib/python3.7/concurrent/futures/_base.py\u001b[0m in \u001b[0;36m__get_result\u001b[0;34m(self)\u001b[0m\n\u001b[1;32m    383\u001b[0m         \u001b[0;32mif\u001b[0m \u001b[0mself\u001b[0m\u001b[0;34m.\u001b[0m\u001b[0m_exception\u001b[0m\u001b[0;34m:\u001b[0m\u001b[0;34m\u001b[0m\u001b[0;34m\u001b[0m\u001b[0m\n\u001b[0;32m--> 384\u001b[0;31m             \u001b[0;32mraise\u001b[0m \u001b[0mself\u001b[0m\u001b[0;34m.\u001b[0m\u001b[0m_exception\u001b[0m\u001b[0;34m\u001b[0m\u001b[0;34m\u001b[0m\u001b[0m\n\u001b[0m\u001b[1;32m    385\u001b[0m         \u001b[0;32melse\u001b[0m\u001b[0;34m:\u001b[0m\u001b[0;34m\u001b[0m\u001b[0;34m\u001b[0m\u001b[0m\n",
      "\u001b[0;32m~/anaconda3/envs/JupyterSystemEnv/lib/python3.7/concurrent/futures/thread.py\u001b[0m in \u001b[0;36mrun\u001b[0;34m(self)\u001b[0m\n\u001b[1;32m     56\u001b[0m         \u001b[0;32mtry\u001b[0m\u001b[0;34m:\u001b[0m\u001b[0;34m\u001b[0m\u001b[0;34m\u001b[0m\u001b[0m\n\u001b[0;32m---> 57\u001b[0;31m             \u001b[0mresult\u001b[0m \u001b[0;34m=\u001b[0m \u001b[0mself\u001b[0m\u001b[0;34m.\u001b[0m\u001b[0mfn\u001b[0m\u001b[0;34m(\u001b[0m\u001b[0;34m*\u001b[0m\u001b[0mself\u001b[0m\u001b[0;34m.\u001b[0m\u001b[0margs\u001b[0m\u001b[0;34m,\u001b[0m \u001b[0;34m**\u001b[0m\u001b[0mself\u001b[0m\u001b[0;34m.\u001b[0m\u001b[0mkwargs\u001b[0m\u001b[0;34m)\u001b[0m\u001b[0;34m\u001b[0m\u001b[0;34m\u001b[0m\u001b[0m\n\u001b[0m\u001b[1;32m     58\u001b[0m         \u001b[0;32mexcept\u001b[0m \u001b[0mBaseException\u001b[0m \u001b[0;32mas\u001b[0m \u001b[0mexc\u001b[0m\u001b[0;34m:\u001b[0m\u001b[0;34m\u001b[0m\u001b[0;34m\u001b[0m\u001b[0m\n",
      "\u001b[0;32m~/anaconda3/envs/JupyterSystemEnv/lib/python3.7/site-packages/gremlin_python/driver/connection.py\u001b[0m in \u001b[0;36m_receive\u001b[0;34m(self)\u001b[0m\n\u001b[1;32m     82\u001b[0m                 \u001b[0mdata\u001b[0m \u001b[0;34m=\u001b[0m \u001b[0mself\u001b[0m\u001b[0;34m.\u001b[0m\u001b[0m_transport\u001b[0m\u001b[0;34m.\u001b[0m\u001b[0mread\u001b[0m\u001b[0;34m(\u001b[0m\u001b[0;34m)\u001b[0m\u001b[0;34m\u001b[0m\u001b[0;34m\u001b[0m\u001b[0m\n\u001b[0;32m---> 83\u001b[0;31m                 \u001b[0mstatus_code\u001b[0m \u001b[0;34m=\u001b[0m \u001b[0mself\u001b[0m\u001b[0;34m.\u001b[0m\u001b[0m_protocol\u001b[0m\u001b[0;34m.\u001b[0m\u001b[0mdata_received\u001b[0m\u001b[0;34m(\u001b[0m\u001b[0mdata\u001b[0m\u001b[0;34m,\u001b[0m \u001b[0mself\u001b[0m\u001b[0;34m.\u001b[0m\u001b[0m_results\u001b[0m\u001b[0;34m)\u001b[0m\u001b[0;34m\u001b[0m\u001b[0;34m\u001b[0m\u001b[0m\n\u001b[0m\u001b[1;32m     84\u001b[0m                 \u001b[0;32mif\u001b[0m \u001b[0mstatus_code\u001b[0m \u001b[0;34m!=\u001b[0m \u001b[0;36m206\u001b[0m\u001b[0;34m:\u001b[0m\u001b[0;34m\u001b[0m\u001b[0;34m\u001b[0m\u001b[0m\n",
      "\u001b[0;32m~/anaconda3/envs/JupyterSystemEnv/lib/python3.7/site-packages/gremlin_python/driver/protocol.py\u001b[0m in \u001b[0;36mdata_received\u001b[0;34m(self, message, results_dict)\u001b[0m\n\u001b[1;32m    137\u001b[0m             \u001b[0;32mdel\u001b[0m \u001b[0mresults_dict\u001b[0m\u001b[0;34m[\u001b[0m\u001b[0mrequest_id\u001b[0m\u001b[0;34m]\u001b[0m\u001b[0;34m\u001b[0m\u001b[0;34m\u001b[0m\u001b[0m\n\u001b[0;32m--> 138\u001b[0;31m             \u001b[0;32mraise\u001b[0m \u001b[0mGremlinServerError\u001b[0m\u001b[0;34m(\u001b[0m\u001b[0mmessage\u001b[0m\u001b[0;34m[\u001b[0m\u001b[0;34m'status'\u001b[0m\u001b[0;34m]\u001b[0m\u001b[0;34m)\u001b[0m\u001b[0;34m\u001b[0m\u001b[0;34m\u001b[0m\u001b[0m\n\u001b[0m\u001b[1;32m    139\u001b[0m \u001b[0;34m\u001b[0m\u001b[0m\n",
      "\u001b[0;31mGremlinServerError\u001b[0m: 499: {\"code\":\"ConstraintViolationException\",\"requestId\":\"a3125bf4-3c71-4a08-8fbb-1aebd0558410\",\"detailedMessage\":\"Edge with id already exists: \"}",
      "\nDuring handling of the above exception, another exception occurred:\n",
      "\u001b[0;31mQueryFailed\u001b[0m                               Traceback (most recent call last)",
      "\u001b[0;32m<ipython-input-41-786ba478d04d>\u001b[0m in \u001b[0;36m<module>\u001b[0;34m\u001b[0m\n\u001b[0;32m----> 1\u001b[0;31m \u001b[0mwr\u001b[0m\u001b[0;34m.\u001b[0m\u001b[0mneptune\u001b[0m\u001b[0;34m.\u001b[0m\u001b[0mto_property_graph\u001b[0m\u001b[0;34m(\u001b[0m\u001b[0mclient\u001b[0m\u001b[0;34m,\u001b[0m \u001b[0mdf\u001b[0m\u001b[0;34m=\u001b[0m\u001b[0medges_df\u001b[0m\u001b[0;34m)\u001b[0m\u001b[0;34m\u001b[0m\u001b[0;34m\u001b[0m\u001b[0m\n\u001b[0m",
      "\u001b[0;32m~/anaconda3/envs/JupyterSystemEnv/lib/python3.7/site-packages/awswrangler/neptune/neptune.py\u001b[0m in \u001b[0;36mto_property_graph\u001b[0;34m(client, df, batch_size, use_header_cardinality)\u001b[0m\n\u001b[1;32m    205\u001b[0m                 \u001b[0mg\u001b[0m \u001b[0;34m=\u001b[0m \u001b[0mGraph\u001b[0m\u001b[0;34m(\u001b[0m\u001b[0;34m)\u001b[0m\u001b[0;34m.\u001b[0m\u001b[0mtraversal\u001b[0m\u001b[0;34m(\u001b[0m\u001b[0;34m)\u001b[0m\u001b[0;34m\u001b[0m\u001b[0;34m\u001b[0m\u001b[0m\n\u001b[1;32m    206\u001b[0m \u001b[0;34m\u001b[0m\u001b[0m\n\u001b[0;32m--> 207\u001b[0;31m     \u001b[0;32mreturn\u001b[0m \u001b[0m_run_gremlin_insert\u001b[0m\u001b[0;34m(\u001b[0m\u001b[0mclient\u001b[0m\u001b[0;34m,\u001b[0m \u001b[0mg\u001b[0m\u001b[0;34m)\u001b[0m\u001b[0;34m\u001b[0m\u001b[0;34m\u001b[0m\u001b[0m\n\u001b[0m\u001b[1;32m    208\u001b[0m \u001b[0;34m\u001b[0m\u001b[0m\n\u001b[1;32m    209\u001b[0m \u001b[0;34m\u001b[0m\u001b[0m\n",
      "\u001b[0;32m~/anaconda3/envs/JupyterSystemEnv/lib/python3.7/site-packages/awswrangler/neptune/neptune.py\u001b[0m in \u001b[0;36m_run_gremlin_insert\u001b[0;34m(client, g)\u001b[0m\n\u001b[1;32m    381\u001b[0m     )  # hack to fix parser error for adding unknown values('shape') steps to translation.\n\u001b[1;32m    382\u001b[0m     \u001b[0m_logger\u001b[0m\u001b[0;34m.\u001b[0m\u001b[0mdebug\u001b[0m\u001b[0;34m(\u001b[0m\u001b[0ms\u001b[0m\u001b[0;34m)\u001b[0m\u001b[0;34m\u001b[0m\u001b[0;34m\u001b[0m\u001b[0m\n\u001b[0;32m--> 383\u001b[0;31m     \u001b[0mres\u001b[0m \u001b[0;34m=\u001b[0m \u001b[0mclient\u001b[0m\u001b[0;34m.\u001b[0m\u001b[0mwrite_gremlin\u001b[0m\u001b[0;34m(\u001b[0m\u001b[0ms\u001b[0m\u001b[0;34m)\u001b[0m\u001b[0;34m\u001b[0m\u001b[0;34m\u001b[0m\u001b[0m\n\u001b[0m\u001b[1;32m    384\u001b[0m     \u001b[0;32mreturn\u001b[0m \u001b[0mres\u001b[0m\u001b[0;34m\u001b[0m\u001b[0;34m\u001b[0m\u001b[0m\n\u001b[1;32m    385\u001b[0m \u001b[0;34m\u001b[0m\u001b[0m\n",
      "\u001b[0;32m~/anaconda3/envs/JupyterSystemEnv/lib/python3.7/site-packages/awswrangler/neptune/client.py\u001b[0m in \u001b[0;36mwrite_gremlin\u001b[0;34m(self, query)\u001b[0m\n\u001b[1;32m    179\u001b[0m             \u001b[0mThe\u001b[0m \u001b[0msuccess\u001b[0m \u001b[0mof\u001b[0m \u001b[0mthe\u001b[0m \u001b[0mGremlin\u001b[0m \u001b[0mwrite\u001b[0m \u001b[0mquery\u001b[0m\u001b[0;34m\u001b[0m\u001b[0;34m\u001b[0m\u001b[0m\n\u001b[1;32m    180\u001b[0m         \"\"\"\n\u001b[0;32m--> 181\u001b[0;31m         \u001b[0mres\u001b[0m \u001b[0;34m=\u001b[0m \u001b[0mself\u001b[0m\u001b[0;34m.\u001b[0m\u001b[0m_execute_gremlin\u001b[0m\u001b[0;34m(\u001b[0m\u001b[0mquery\u001b[0m\u001b[0;34m)\u001b[0m\u001b[0;34m\u001b[0m\u001b[0;34m\u001b[0m\u001b[0m\n\u001b[0m\u001b[1;32m    182\u001b[0m         \u001b[0m_logger\u001b[0m\u001b[0;34m.\u001b[0m\u001b[0mdebug\u001b[0m\u001b[0;34m(\u001b[0m\u001b[0mres\u001b[0m\u001b[0;34m)\u001b[0m\u001b[0;34m\u001b[0m\u001b[0;34m\u001b[0m\u001b[0m\n\u001b[1;32m    183\u001b[0m         \u001b[0;32mreturn\u001b[0m \u001b[0;32mTrue\u001b[0m\u001b[0;34m\u001b[0m\u001b[0;34m\u001b[0m\u001b[0m\n",
      "\u001b[0;32m~/anaconda3/envs/JupyterSystemEnv/lib/python3.7/site-packages/awswrangler/neptune/client.py\u001b[0m in \u001b[0;36m_execute_gremlin\u001b[0;34m(self, query, headers)\u001b[0m\n\u001b[1;32m    195\u001b[0m             \u001b[0mself\u001b[0m\u001b[0;34m.\u001b[0m\u001b[0mgremlin_connection\u001b[0m \u001b[0;34m=\u001b[0m \u001b[0;32mNone\u001b[0m\u001b[0;34m\u001b[0m\u001b[0;34m\u001b[0m\u001b[0m\n\u001b[1;32m    196\u001b[0m             \u001b[0m_logger\u001b[0m\u001b[0;34m.\u001b[0m\u001b[0merror\u001b[0m\u001b[0;34m(\u001b[0m\u001b[0me\u001b[0m\u001b[0;34m)\u001b[0m\u001b[0;34m\u001b[0m\u001b[0;34m\u001b[0m\u001b[0m\n\u001b[0;32m--> 197\u001b[0;31m             \u001b[0;32mraise\u001b[0m \u001b[0mexceptions\u001b[0m\u001b[0;34m.\u001b[0m\u001b[0mQueryFailed\u001b[0m\u001b[0;34m(\u001b[0m\u001b[0me\u001b[0m\u001b[0;34m)\u001b[0m\u001b[0;34m\u001b[0m\u001b[0;34m\u001b[0m\u001b[0m\n\u001b[0m\u001b[1;32m    198\u001b[0m \u001b[0;34m\u001b[0m\u001b[0m\n\u001b[1;32m    199\u001b[0m     \u001b[0;32mdef\u001b[0m \u001b[0m_get_gremlin_connection\u001b[0m\u001b[0;34m(\u001b[0m\u001b[0mself\u001b[0m\u001b[0;34m,\u001b[0m \u001b[0mheaders\u001b[0m\u001b[0;34m:\u001b[0m \u001b[0mAny\u001b[0m \u001b[0;34m=\u001b[0m \u001b[0;32mNone\u001b[0m\u001b[0;34m)\u001b[0m \u001b[0;34m->\u001b[0m \u001b[0mclient\u001b[0m\u001b[0;34m.\u001b[0m\u001b[0mClient\u001b[0m\u001b[0;34m:\u001b[0m\u001b[0;34m\u001b[0m\u001b[0;34m\u001b[0m\u001b[0m\n",
      "\u001b[0;31mQueryFailed\u001b[0m: 499: {\"code\":\"ConstraintViolationException\",\"requestId\":\"a3125bf4-3c71-4a08-8fbb-1aebd0558410\",\"detailedMessage\":\"Edge with id already exists: \"}"
     ]
    }
   ],
   "source": [
    "wr.neptune.to_property_graph(client, df=edges_df)"
   ]
  },
  {
   "cell_type": "markdown",
   "id": "8064ef96",
   "metadata": {},
   "source": [
    "After recieving a \"True\" from both cells you are finished with processing your SMILES molecule string and are ready to move onto visualizing your molecule as graph data. If you wish to add additional compounds to your graph database you can return to the start of the \"RDKit Processing\" section and simply redo the process with a differnt molecules SMILES string."
   ]
  },
  {
   "cell_type": "markdown",
   "id": "3da70417",
   "metadata": {},
   "source": [
    "**Basic Visualization & Queries**"
   ]
  },
  {
   "cell_type": "markdown",
   "id": "cb19689b",
   "metadata": {},
   "source": [
    "Now that we have processed and loaded our molecular data, lets visualize the results of our efforts so far. The below cell uses a Gremlin query to traverse outwards from nodes which are labeled as 'C' (for the element Carbon), giving us a picture of the overall structure of our molecule."
   ]
  },
  {
   "cell_type": "code",
   "execution_count": 67,
   "id": "5dbb8414",
   "metadata": {
    "scrolled": true
   },
   "outputs": [
    {
     "data": {
      "application/vnd.jupyter.widget-view+json": {
       "model_id": "3801531404794189bd657a2e419a3c9b",
       "version_major": 2,
       "version_minor": 0
      },
      "text/plain": [
       "Tab(children=(Output(layout=Layout(max_height='600px', max_width='940px', overflow='scroll')), Output(layout=L…"
      ]
     },
     "metadata": {},
     "output_type": "display_data"
    }
   ],
   "source": [
    "%%gremlin -p v,ine,outv,oute,inv,oute,inv,oute,inv,oute,inv\n",
    "g.V().has('~label','C').repeat(outE().inV()).emit().times(5).path().by(valueMap(true))"
   ]
  },
  {
   "cell_type": "markdown",
   "id": "553a58d8",
   "metadata": {},
   "source": [
    "You should recieve an interactive view of the 2D image RDKit produced earlier as the output of the above cell. Feel free to explore the structure and compare it to other visualizations you might be able to find of your molecule. Also, now that our molecule is persisted as graph data, you can manipulate, edit, and add additional data to your molecular structure as you see fit."
   ]
  },
  {
   "cell_type": "markdown",
   "id": "6f7c99a3",
   "metadata": {},
   "source": [
    "**Clean Up - WILL DELETE MOLECULE DATA**"
   ]
  },
  {
   "cell_type": "markdown",
   "id": "9d267a23",
   "metadata": {},
   "source": [
    "Run the cell below to delete the data in the graph if you want to clean everything out. This iterates through the nodes_df so be sure to adjust if you have added any of your own additional molecules or edits."
   ]
  },
  {
   "cell_type": "code",
   "execution_count": 69,
   "id": "363ea618",
   "metadata": {},
   "outputs": [],
   "source": [
    "for i in nodes_df['~id']:\n",
    "    wr.neptune.execute_gremlin(client, \"g.V().has('~id', '\"+i+\"').drop();\")"
   ]
  },
  {
   "cell_type": "code",
   "execution_count": null,
   "id": "3c13d347",
   "metadata": {},
   "outputs": [],
   "source": []
  }
 ],
 "metadata": {
  "kernelspec": {
   "display_name": "Python 3",
   "language": "python",
   "name": "python3"
  },
  "language_info": {
   "codemirror_mode": {
    "name": "ipython",
    "version": 3
   },
   "file_extension": ".py",
   "mimetype": "text/x-python",
   "name": "python",
   "nbconvert_exporter": "python",
   "pygments_lexer": "ipython3",
   "version": "3.7.12"
  }
 },
 "nbformat": 4,
 "nbformat_minor": 5
}
