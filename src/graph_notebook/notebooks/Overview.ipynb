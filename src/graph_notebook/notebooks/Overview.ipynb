{
 "cells": [
  {
   "cell_type": "markdown",
   "id": "dc7da923-912d-485d-ba17-e8acc98fa21d",
   "metadata": {},
   "source": [
    "Copyright Amazon.com, Inc. or its affiliates. All Rights Reserved.\n",
    "SPDX-License-Identifier: Apache-2.0\n",
    "\n",
    "# <center>Welcome to Amazon Neptune!</center>\n",
    "\n",
    "Amazon Neptune is a fully managed graph service enabling users to analyze, build, and derive insight from graph data at scale.  Amazon Neptune consists of a graph database, a graph analytics engine, graph machine learning, as well as the libraries and tools required to store and analyze highly connected data sets.  \n",
    "\n",
    "## What are the main features of Amazon Neptune?\n",
    "\n",
    "Amazon Neptune consists of three main features:\n",
    "\n",
    "* **Neptune Database** provides a purpose-built graph database with a full set of enterprise features and integrations.  Neptune Database is the best tool to build mission-critical graph applications that require high availability, disaster recovery, dynamic scaling, and other capabilities required by enterprise applications.  We have provided a set of notebooks that cover sample applications, use cases, and guidance which can be found in the [01-Neptune-Database](./01-Neptune-Database/Overview.ipynb) folder.\n",
    "\n",
    "* **Neptune Analytics** is an analytics engine that provides graph analytics and algorithms, low latency analytic queries, and combining Vector Similarity Search (VSS) with graph traversals.  We have provided a set of notebooks that cover sample applications, use cases, and guidance which can be found in the [02-Neptune-Analytics](./02-Neptune-Analytics/Overview.ipynb) folder. \n",
    "\n",
    "* **Neptune ML** makes it possible to build and train machine learning models on large graphs in hours instead of weeks. To accomplish this, Neptune ML uses graph neural network (GNN) technology powered by Amazon SageMaker and the Deep Graph Library (DGL) (which is open-source). We have provided a set of notebooks that cover sample applications and the types of machine learning predictions possibel, which can be found in the [03-Neptune-ML](./03-Neptune-ML/Overview.ipynb) folder. \n",
    "\n",
    "\n",
    "## What can I do with Amazon Neptune?\n",
    "\n",
    "Developers and Data engineers that are building mission-critical systems should leverage Neptune Database and Neptune Developer Tools to build and operate applications at large scales across diverse geographic regions.  Systems such as product recommendation engines, identity and access management systems, and compliance systems always require on, geographically distributed capabilities that are only available from the world's leading managed graph database.  Systems that require analytical or algorithmic augmentation may also leverage Neptune Analytics to derive these critical insights.\n",
    "\n",
    "Data scientists and developers that are looking to explore and interact with data to derive insights should leverage Neptune Analytics and Neptune Notebooks.  These capabilities empower users to interact with data using familiar tools, such as Pandas, Jupyter, and Python, to discover and pinpoint interactions and patterns of behavior in the data that are indicative of fraud, illegal activities, optimization opportunities etc.\n",
    "\n",
    "Machine Learning engineers and data scientists looking to perform real-time predictions can leverage Neptune ML to design, build, optimize, and predict connections and categorizations utilizing state-of-the-art Graph Neural Networks.  ML engineers looking to augment feature tables can use Neptune analytics to derive critical features from connected data using common algorithms such as clustering, centrality, and path finding.  \n",
    "\n",
    "Developers building Retrieval Augmented Generation (RAG) applications can leverage Neptune Analytics to perform VSS search on dense data representations provided by embeddings and combine these results with the contextually aware data representations of graphs.  Developers can combine these capabilities to develop applications that quickly retrieve relevant data locations via VSS and then use graph traversals to provide rich contextual information related to those connections.\n",
    "\n",
    "\n",
    "\n",
    "\n",
    "\n",
    "## What other tools are provided in Amazon Neptune?\n",
    "\n",
    "In addition to the features described above Amazon Neptune provides a variety of tools to simplify `\n",
    "\n",
    "* **[Neptune Notebooks](https://docs.aws.amazon.com/neptune/latest/userguide/graph-notebooks.html)** is a managed IDE toolkit that enables developers and data scientists to query, visualize, and interact with graph data.\n",
    "\n",
    "* **[Neptune Graph Explorer](https://docs.aws.amazon.com/neptune/latest/userguide/visualization-graph-explorer.html)** is an open-source graph visualization capability provides analysts a no-code tool to visually explore and interact with their graph data\n",
    "\n",
    "* **Neptune Developer Tools** are a set of libraries, SDKs, and drivers that enable customers using Java, Python, .NET, Javascript, Go, to quickly and easily develop graph applications\n",
    "\n",
    "* **[Neptune Connectors](https://docs.aws.amazon.com/neptune/latest/userguide/integrations.html)** are a set of tools and integrations that facilitate integrations between Neptune Database and other AWS services such as AWS Glue, Sagemaker, Lambda, Athena, DMS, Backup, etc.\n"
   ]
  }
 ],
 "metadata": {
  "kernelspec": {
   "display_name": "Python 3",
   "language": "python",
   "name": "python3"
  },
  "language_info": {
   "codemirror_mode": {
    "name": "ipython",
    "version": 3
   },
   "file_extension": ".py",
   "mimetype": "text/x-python",
   "name": "python",
   "nbconvert_exporter": "python",
   "pygments_lexer": "ipython3",
   "version": "3.10.9"
  }
 },
 "nbformat": 4,
 "nbformat_minor": 5
}
